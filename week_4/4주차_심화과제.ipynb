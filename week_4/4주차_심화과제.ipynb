{
  "nbformat": 4,
  "nbformat_minor": 0,
  "metadata": {
    "colab": {
      "provenance": [],
      "gpuType": "A100",
      "machine_shape": "hm"
    },
    "kernelspec": {
      "name": "python3",
      "display_name": "Python 3"
    },
    "language_info": {
      "name": "python"
    },
    "accelerator": "GPU"
  },
  "cells": [
    {
      "cell_type": "code",
      "execution_count": null,
      "metadata": {
        "colab": {
          "base_uri": "https://localhost:8080/"
        },
        "id": "UeHRwq3aR-bc",
        "outputId": "d72081eb-ad90-4316-870b-1f5af1c7a054",
        "collapsed": true
      },
      "outputs": [
        {
          "output_type": "stream",
          "name": "stdout",
          "text": [
            "Requirement already satisfied: openai in /usr/local/lib/python3.10/dist-packages (1.57.4)\n",
            "Requirement already satisfied: anyio<5,>=3.5.0 in /usr/local/lib/python3.10/dist-packages (from openai) (3.7.1)\n",
            "Requirement already satisfied: distro<2,>=1.7.0 in /usr/local/lib/python3.10/dist-packages (from openai) (1.9.0)\n",
            "Requirement already satisfied: httpx<1,>=0.23.0 in /usr/local/lib/python3.10/dist-packages (from openai) (0.28.1)\n",
            "Requirement already satisfied: jiter<1,>=0.4.0 in /usr/local/lib/python3.10/dist-packages (from openai) (0.8.2)\n",
            "Requirement already satisfied: pydantic<3,>=1.9.0 in /usr/local/lib/python3.10/dist-packages (from openai) (2.10.3)\n",
            "Requirement already satisfied: sniffio in /usr/local/lib/python3.10/dist-packages (from openai) (1.3.1)\n",
            "Requirement already satisfied: tqdm>4 in /usr/local/lib/python3.10/dist-packages (from openai) (4.67.1)\n",
            "Requirement already satisfied: typing-extensions<5,>=4.11 in /usr/local/lib/python3.10/dist-packages (from openai) (4.12.2)\n",
            "Requirement already satisfied: idna>=2.8 in /usr/local/lib/python3.10/dist-packages (from anyio<5,>=3.5.0->openai) (3.10)\n",
            "Requirement already satisfied: exceptiongroup in /usr/local/lib/python3.10/dist-packages (from anyio<5,>=3.5.0->openai) (1.2.2)\n",
            "Requirement already satisfied: certifi in /usr/local/lib/python3.10/dist-packages (from httpx<1,>=0.23.0->openai) (2024.12.14)\n",
            "Requirement already satisfied: httpcore==1.* in /usr/local/lib/python3.10/dist-packages (from httpx<1,>=0.23.0->openai) (1.0.7)\n",
            "Requirement already satisfied: h11<0.15,>=0.13 in /usr/local/lib/python3.10/dist-packages (from httpcore==1.*->httpx<1,>=0.23.0->openai) (0.14.0)\n",
            "Requirement already satisfied: annotated-types>=0.6.0 in /usr/local/lib/python3.10/dist-packages (from pydantic<3,>=1.9.0->openai) (0.7.0)\n",
            "Requirement already satisfied: pydantic-core==2.27.1 in /usr/local/lib/python3.10/dist-packages (from pydantic<3,>=1.9.0->openai) (2.27.1)\n"
          ]
        }
      ],
      "source": [
        "!pip install openai"
      ]
    },
    {
      "cell_type": "code",
      "source": [
        "import json\n",
        "from openai import OpenAI # GPT-4 API\n",
        "from tqdm import tqdm\n",
        "from google.colab import userdata\n",
        "from string import Template"
      ],
      "metadata": {
        "id": "_48ch2BmUBa-"
      },
      "execution_count": null,
      "outputs": []
    },
    {
      "cell_type": "code",
      "source": [
        "\n",
        "# GPT-4 API 키 설정\n",
        "client = OpenAI(api_key=userdata.get('openapi_key'))\n",
        "# 데이터셋 로드\n",
        "file_path = \"2023_11_KICE.json\"  # JSON 파일 경로\n",
        "\n",
        "# JSON 파일 로드\n",
        "def load_json(file_path):\n",
        "    with open(file_path, \"r\", encoding=\"utf-8\") as file:\n",
        "        return json.load(file)\n",
        "\n",
        "def prediction(problem):\n",
        "    \"\"\"\n",
        "    GPT-4가 문제에 대한 정답을 예측합니다.\n",
        "    Args:\n",
        "        problem (dict): JSON 형식의 문제 데이터\n",
        "    Returns:\n",
        "        str: GPT-4가 예측한 정답 (선택지 번호)\n",
        "    \"\"\"\n",
        "    # 지문 및 선택지 추출\n",
        "    paragraph = problem.get(\"paragraph\", \"\")\n",
        "    question = problem[\"question\"]\n",
        "    question_plus = problem.get('question_plus', None)\n",
        "    choices = problem[\"choices\"]\n",
        "\n",
        "    # Zero-shot CoT 프롬프트 템플릿\n",
        "    zero_shot_cot_en_prompt = Template(\"\"\"\n",
        "\n",
        "    Paragraph:\n",
        "    ${paragraph}\n",
        "\n",
        "    Question:\n",
        "    ${question}\n",
        "\n",
        "    More info:\n",
        "    ${question_plus}\n",
        "\n",
        "    Choices:\n",
        "    1 - ${choice1}\n",
        "    2 - ${choice2}\n",
        "    3 - ${choice3}\n",
        "    4 - ${choice4}\n",
        "    5 - ${choice5}\n",
        "\n",
        "    Choice one in 5 choices.\n",
        "    Your answer should be a single number (1, 2, 3, 4, 5) and nothing else.\n",
        "    Let's think step by step.\n",
        "    \"\"\")\n",
        "\n",
        "    # 프롬프트 구성\n",
        "    prompt = zero_shot_cot_en_prompt.substitute(\n",
        "        paragraph=paragraph,\n",
        "        question=question,\n",
        "        question_plus=question_plus,\n",
        "        choice1=choices[0],\n",
        "        choice2=choices[1],\n",
        "        choice3=choices[2],\n",
        "        choice4=choices[3],\n",
        "        choice5=choices[4],\n",
        "    )\n",
        "\n",
        "    # GPT-4 API 호출\n",
        "    try:\n",
        "        response = client.chat.completions.create(\n",
        "            model=\"gpt-4o\",  # GPT-4 모델 선택\n",
        "            messages=[\n",
        "                {\"role\": \"system\", \"content\": \"As a smart student answer the given question. Read the paragraph, and select only one answer between 5 choices.\"},\n",
        "                {\"role\": \"user\", \"content\": prompt}\n",
        "            ],\n",
        "            max_tokens=4096,  # 충분한 길이 허용\n",
        "            temperature=0.5,\n",
        "            n=1\n",
        "        )\n",
        "        # 정답 추출\n",
        "        answer = response.choices[0].message.content\n",
        "        # 답변에서 숫자만 추출\n",
        "        for option in ['1', '2', '3', '4', '5']:\n",
        "            if option in answer:\n",
        "                return option\n",
        "\n",
        "        return None  # 유효한 선택지가 없을 경우\n",
        "    except Exception as e:\n",
        "        print(f\"Error during GPT-4 prediction: {e}\")\n",
        "        return None\n",
        "\n",
        "# 모든 문제에 대해 예측 수행\n",
        "def predict_all(data):\n",
        "    predictions = []\n",
        "\n",
        "    for item in tqdm(data):\n",
        "        paragraph = item.get(\"paragraph\", \"\")\n",
        "        problems = item[\"problems\"]\n",
        "\n",
        "        for problem in problems:\n",
        "            problem_with_paragraph = {**problem, \"paragraph\": paragraph}\n",
        "            predicted_answer = prediction(problem_with_paragraph)\n",
        "            predictions.append({\n",
        "                \"predicted_answer\": predicted_answer,\n",
        "                \"true_answer\": str(problem[\"answer\"]),\n",
        "                \"score\": problem[\"score\"]\n",
        "            })\n",
        "\n",
        "    return predictions\n",
        "\n",
        "# 점수 계산 함수\n",
        "def calculate_score(predictions):\n",
        "    total_score = 0\n",
        "    correct_answers = 0\n",
        "    total_questions = len(predictions)\n",
        "\n",
        "    for result in predictions:\n",
        "        if result[\"predicted_answer\"] == result[\"true_answer\"]:\n",
        "            total_score += result[\"score\"]\n",
        "            correct_answers += 1\n",
        "\n",
        "    accuracy = correct_answers / total_questions * 100 if total_questions > 0 else 0\n",
        "\n",
        "    return {\n",
        "        \"total_score\": total_score,\n",
        "        \"correct_answers\": correct_answers,\n",
        "        \"total_questions\": total_questions,\n",
        "        \"accuracy\": accuracy\n",
        "    }\n",
        "\n"
      ],
      "metadata": {
        "id": "QObF2OAzYwLi"
      },
      "execution_count": null,
      "outputs": []
    },
    {
      "cell_type": "code",
      "source": [
        "data = load_json(file_path)\n",
        "\n",
        "\n",
        "# 예측 수행\n",
        "predictions = predict_all(data)\n",
        "\n",
        "\n",
        "# 점수 계산\n",
        "results = calculate_score(predictions)\n",
        "\n",
        "# 결과 출력\n",
        "print(f\"Total Score: {results['total_score']}\")\n",
        "print(f\"Correct Answers: {results['correct_answers']}\")\n",
        "print(f\"Total Questions: {results['total_questions']}\")\n",
        "print(f\"Accuracy: {results['accuracy']:.2f}%\")\n",
        "\n",
        "if results['total_score'] >= 80:\n",
        "    print(\"과제 통과!\")\n",
        "else:\n",
        "    print(\"과제 실패\")"
      ],
      "metadata": {
        "colab": {
          "base_uri": "https://localhost:8080/"
        },
        "id": "sf_HAnMwUCmO",
        "outputId": "f610620c-dc9e-4149-bc1f-309c4de6a586"
      },
      "execution_count": null,
      "outputs": [
        {
          "output_type": "stream",
          "name": "stderr",
          "text": [
            "100%|██████████| 11/11 [01:18<00:00,  7.16s/it]"
          ]
        },
        {
          "output_type": "stream",
          "name": "stdout",
          "text": [
            "Total Score: 87\n",
            "Correct Answers: 39\n",
            "Total Questions: 45\n",
            "Accuracy: 86.67%\n",
            "과제 통과!\n"
          ]
        },
        {
          "output_type": "stream",
          "name": "stderr",
          "text": [
            "\n"
          ]
        }
      ]
    }
  ]
}