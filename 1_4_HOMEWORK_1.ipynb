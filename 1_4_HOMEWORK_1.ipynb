{
  "nbformat": 4,
  "nbformat_minor": 0,
  "metadata": {
    "colab": {
      "provenance": [],
      "gpuType": "T4",
      "include_colab_link": true
    },
    "kernelspec": {
      "name": "python3",
      "display_name": "Python 3"
    },
    "language_info": {
      "name": "python"
    },
    "accelerator": "GPU"
  },
  "cells": [
    {
      "cell_type": "markdown",
      "metadata": {
        "id": "view-in-github",
        "colab_type": "text"
      },
      "source": [
        "<a href=\"https://colab.research.google.com/github/sugarghost/hanghae99_AI_PLUS_2/blob/main/1_4_HOMEWORK_1.ipynb\" target=\"_parent\"><img src=\"https://colab.research.google.com/assets/colab-badge.svg\" alt=\"Open In Colab\"/></a>"
      ]
    },
    {
      "cell_type": "code",
      "execution_count": 1,
      "metadata": {
        "id": "6lXVfXoDtoQh"
      },
      "outputs": [],
      "source": [
        "import torch\n",
        "import torchvision\n",
        "import torchvision.transforms as transforms\n"
      ]
    },
    {
      "cell_type": "markdown",
      "source": [
        "## [MY CODE] Test data 준비하기\n",
        "\n",
        "trainset = torchvision.datasets.MNIST(\n",
        "    root='./data',\n",
        "    train=True,\n",
        "    download=True,\n",
        "    transform=transform\n",
        ")\n",
        "\n",
        "testloader = torch.utils.data.DataLoader(\n",
        "    testset,\n",
        "    batch_size=batch_size,\n",
        "    shuffle=False\n",
        ")"
      ],
      "metadata": {
        "id": "qhKf91FXBi-N"
      }
    },
    {
      "cell_type": "code",
      "source": [
        "transform = transforms.ToTensor()\n",
        "\n",
        "batch_size = 256\n",
        "\n",
        "trainset = torchvision.datasets.MNIST(\n",
        "    root='./data',\n",
        "    train=True,\n",
        "    download=True,\n",
        "    transform=transform\n",
        ")\n",
        "\n",
        "trainloader = torch.utils.data.DataLoader(\n",
        "    trainset,\n",
        "    batch_size=batch_size,\n",
        "    shuffle=True\n",
        ")\n",
        "\n",
        "testset = torchvision.datasets.MNIST(\n",
        "    root='./data',\n",
        "    train=False, # 테스트 데이터는 학습시키지 않음\n",
        "    download=True,\n",
        "    transform=transform\n",
        ")\n",
        "\n",
        "\n",
        "testloader = torch.utils.data.DataLoader(\n",
        "    testset,\n",
        "    batch_size=batch_size,\n",
        "    shuffle=False # 테스트 데이터는 섞을 필요 없음\n",
        ")"
      ],
      "metadata": {
        "id": "KAYlqPaRt6ti",
        "colab": {
          "base_uri": "https://localhost:8080/"
        },
        "outputId": "0d323e05-fea2-4850-c428-0bed7db1e2ed"
      },
      "execution_count": 2,
      "outputs": [
        {
          "output_type": "stream",
          "name": "stdout",
          "text": [
            "Downloading http://yann.lecun.com/exdb/mnist/train-images-idx3-ubyte.gz\n",
            "Failed to download (trying next):\n",
            "HTTP Error 403: Forbidden\n",
            "\n",
            "Downloading https://ossci-datasets.s3.amazonaws.com/mnist/train-images-idx3-ubyte.gz\n",
            "Downloading https://ossci-datasets.s3.amazonaws.com/mnist/train-images-idx3-ubyte.gz to ./data/MNIST/raw/train-images-idx3-ubyte.gz\n"
          ]
        },
        {
          "output_type": "stream",
          "name": "stderr",
          "text": [
            "100%|██████████| 9.91M/9.91M [00:00<00:00, 17.8MB/s]\n"
          ]
        },
        {
          "output_type": "stream",
          "name": "stdout",
          "text": [
            "Extracting ./data/MNIST/raw/train-images-idx3-ubyte.gz to ./data/MNIST/raw\n",
            "\n",
            "Downloading http://yann.lecun.com/exdb/mnist/train-labels-idx1-ubyte.gz\n",
            "Failed to download (trying next):\n",
            "HTTP Error 403: Forbidden\n",
            "\n",
            "Downloading https://ossci-datasets.s3.amazonaws.com/mnist/train-labels-idx1-ubyte.gz\n",
            "Downloading https://ossci-datasets.s3.amazonaws.com/mnist/train-labels-idx1-ubyte.gz to ./data/MNIST/raw/train-labels-idx1-ubyte.gz\n"
          ]
        },
        {
          "output_type": "stream",
          "name": "stderr",
          "text": [
            "100%|██████████| 28.9k/28.9k [00:00<00:00, 485kB/s]\n"
          ]
        },
        {
          "output_type": "stream",
          "name": "stdout",
          "text": [
            "Extracting ./data/MNIST/raw/train-labels-idx1-ubyte.gz to ./data/MNIST/raw\n",
            "\n",
            "Downloading http://yann.lecun.com/exdb/mnist/t10k-images-idx3-ubyte.gz\n",
            "Failed to download (trying next):\n",
            "HTTP Error 403: Forbidden\n",
            "\n",
            "Downloading https://ossci-datasets.s3.amazonaws.com/mnist/t10k-images-idx3-ubyte.gz\n",
            "Downloading https://ossci-datasets.s3.amazonaws.com/mnist/t10k-images-idx3-ubyte.gz to ./data/MNIST/raw/t10k-images-idx3-ubyte.gz\n"
          ]
        },
        {
          "output_type": "stream",
          "name": "stderr",
          "text": [
            "100%|██████████| 1.65M/1.65M [00:00<00:00, 4.41MB/s]\n"
          ]
        },
        {
          "output_type": "stream",
          "name": "stdout",
          "text": [
            "Extracting ./data/MNIST/raw/t10k-images-idx3-ubyte.gz to ./data/MNIST/raw\n",
            "\n",
            "Downloading http://yann.lecun.com/exdb/mnist/t10k-labels-idx1-ubyte.gz\n",
            "Failed to download (trying next):\n",
            "HTTP Error 403: Forbidden\n",
            "\n",
            "Downloading https://ossci-datasets.s3.amazonaws.com/mnist/t10k-labels-idx1-ubyte.gz\n",
            "Downloading https://ossci-datasets.s3.amazonaws.com/mnist/t10k-labels-idx1-ubyte.gz to ./data/MNIST/raw/t10k-labels-idx1-ubyte.gz\n"
          ]
        },
        {
          "output_type": "stream",
          "name": "stderr",
          "text": [
            "100%|██████████| 4.54k/4.54k [00:00<00:00, 5.73MB/s]"
          ]
        },
        {
          "output_type": "stream",
          "name": "stdout",
          "text": [
            "Extracting ./data/MNIST/raw/t10k-labels-idx1-ubyte.gz to ./data/MNIST/raw\n",
            "\n"
          ]
        },
        {
          "output_type": "stream",
          "name": "stderr",
          "text": [
            "\n"
          ]
        }
      ]
    },
    {
      "cell_type": "code",
      "source": [
        "dataiter = iter(trainloader)\n",
        "images, labels = next(dataiter)\n",
        "print(images.shape, labels.shape)"
      ],
      "metadata": {
        "colab": {
          "base_uri": "https://localhost:8080/"
        },
        "id": "_Hd7XxyAvVNz",
        "outputId": "185acb61-2ed7-4110-b325-c0e016ca60b0"
      },
      "execution_count": null,
      "outputs": [
        {
          "output_type": "stream",
          "name": "stdout",
          "text": [
            "torch.Size([64, 1, 28, 28]) torch.Size([64])\n"
          ]
        }
      ]
    },
    {
      "cell_type": "code",
      "source": [
        "from torch import nn\n",
        "\n",
        "\n",
        "class Model(nn.Module):\n",
        "  def __init__(self, input_dim, n_dim):\n",
        "    super().__init__()\n",
        "\n",
        "    self.layer1 = nn.Linear(input_dim, n_dim)\n",
        "    self.layer2 = nn.Linear(n_dim, n_dim)\n",
        "    self.layer3 = nn.Linear(n_dim, 10)\n",
        "\n",
        "    self.act = nn.ReLU()\n",
        "\n",
        "  def forward(self, x):\n",
        "    x = torch.flatten(x, start_dim=1)\n",
        "    x = self.act(self.layer1(x))\n",
        "    x = self.act(self.layer2(x))\n",
        "    x = self.act(self.layer3(x))\n",
        "\n",
        "    return x\n",
        "\n",
        "\n",
        "model = Model(28 * 28 * 1, 1024)"
      ],
      "metadata": {
        "id": "OLOA-ZGTuVVG"
      },
      "execution_count": 3,
      "outputs": []
    },
    {
      "cell_type": "markdown",
      "source": [
        "## [MY CODE] nn.CrossEntropyLoss 방식 추가"
      ],
      "metadata": {
        "id": "UA1-PAniEEzO"
      }
    },
    {
      "cell_type": "code",
      "source": [
        "from torch.optim import SGD\n",
        "\n",
        "lr = 0.001\n",
        "model = model.to('cuda')\n",
        "\n",
        "criterion = nn.CrossEntropyLoss()\n",
        "optimizer = SGD(model.parameters(), lr=lr)"
      ],
      "metadata": {
        "id": "ypS0TcOlvBhZ"
      },
      "execution_count": 4,
      "outputs": []
    },
    {
      "cell_type": "markdown",
      "source": [
        "## [MY CODE] 제공된 측정 함수 추가"
      ],
      "metadata": {
        "id": "8w36leKjWo1Y"
      }
    },
    {
      "cell_type": "code",
      "source": [
        "import numpy as np\n",
        "import matplotlib.pyplot as plt\n",
        "\n",
        "train_accs, test_accs = [], []\n",
        "def accuracy(model, dataloader):\n",
        "  cnt = 0\n",
        "  acc = 0\n",
        "\n",
        "  for data in dataloader:\n",
        "    inputs, labels = data\n",
        "    inputs, labels = inputs.to('cuda'), labels.to('cuda')\n",
        "\n",
        "    preds = model(inputs)\n",
        "    preds = torch.argmax(preds, dim=-1)\n",
        "\n",
        "    cnt += labels.shape[0]\n",
        "    acc += (labels == preds).sum().item()\n",
        "\n",
        "  return acc / cnt\n",
        "\n",
        "def plot_acc(train_accs, test_accs, label1='train', label2='test'):\n",
        "  x = np.arange(len(train_accs))\n",
        "\n",
        "  plt.plot(x, train_accs, label=label1)\n",
        "  plt.plot(x, test_accs, label=label2)\n",
        "  plt.legend()\n",
        "  plt.show()"
      ],
      "metadata": {
        "id": "LnOCm77EG6Ya"
      },
      "execution_count": 5,
      "outputs": []
    },
    {
      "cell_type": "markdown",
      "source": [
        "## [MY CODE] 기존 MSE 방식 대신 CrossEntropyLoss 방식 적용\n",
        "\n",
        "## [MY CODE] 제공된 Train/Test 비교 함수를 Epoch별로 적용\n",
        "\n",
        "## [LOG] 학습 과정에서의 Epoch별 손실값 및 정확도 출력"
      ],
      "metadata": {
        "id": "u_c_uWFoERzc"
      }
    },
    {
      "cell_type": "code",
      "source": [
        "n_epochs = 100\n",
        "for epoch in range(n_epochs):\n",
        "  total_loss = 0.\n",
        "  for data in trainloader:\n",
        "    model.zero_grad()\n",
        "    inputs, labels = data\n",
        "    inputs, labels = inputs.to('cuda'), labels.to('cuda')\n",
        "\n",
        "    preds = model(inputs)\n",
        "    # MSE 방식 비활성화\n",
        "    # loss = (preds[:, 0] - labels).pow(2).mean()\n",
        "    loss = criterion(preds, labels)\n",
        "    loss.backward()\n",
        "    optimizer.step()\n",
        "\n",
        "    total_loss += loss.item()\n",
        "\n",
        "  # Epoch별 Train/Test 정확도 계산\n",
        "  train_acc = accuracy(model, trainloader)\n",
        "  test_acc = accuracy(model, testloader)\n",
        "  train_accs.append(train_acc)\n",
        "  test_accs.append(test_acc)\n",
        "\n",
        "  print(f\"Epoch {epoch:3d} | Loss: {total_loss} | Train Acc: {train_acc:.4f} | Test Acc: {test_acc:.4f}\")"
      ],
      "metadata": {
        "colab": {
          "base_uri": "https://localhost:8080/"
        },
        "id": "TryX1hewvNiB",
        "outputId": "27af2793-f416-4374-824b-ea8f399602d8"
      },
      "execution_count": 6,
      "outputs": [
        {
          "output_type": "stream",
          "name": "stdout",
          "text": [
            "Epoch   0 | Loss: 540.5306172370911 | Train Acc: 0.1682 | Test Acc: 0.1770\n",
            "Epoch   1 | Loss: 538.7212462425232 | Train Acc: 0.2564 | Test Acc: 0.2754\n",
            "Epoch   2 | Loss: 536.6758522987366 | Train Acc: 0.3352 | Test Acc: 0.3454\n",
            "Epoch   3 | Loss: 534.3459541797638 | Train Acc: 0.3845 | Test Acc: 0.3926\n",
            "Epoch   4 | Loss: 531.6179668903351 | Train Acc: 0.4178 | Test Acc: 0.4226\n",
            "Epoch   5 | Loss: 528.4994027614594 | Train Acc: 0.4530 | Test Acc: 0.4587\n",
            "Epoch   6 | Loss: 525.215279340744 | Train Acc: 0.4818 | Test Acc: 0.4894\n",
            "Epoch   7 | Loss: 521.6532361507416 | Train Acc: 0.5034 | Test Acc: 0.5081\n",
            "Epoch   8 | Loss: 517.689713716507 | Train Acc: 0.5169 | Test Acc: 0.5215\n",
            "Epoch   9 | Loss: 513.2463309764862 | Train Acc: 0.5260 | Test Acc: 0.5313\n",
            "Epoch  10 | Loss: 508.2957773208618 | Train Acc: 0.5334 | Test Acc: 0.5379\n",
            "Epoch  11 | Loss: 502.7475514411926 | Train Acc: 0.5384 | Test Acc: 0.5424\n",
            "Epoch  12 | Loss: 496.4270179271698 | Train Acc: 0.5422 | Test Acc: 0.5454\n",
            "Epoch  13 | Loss: 489.4080982208252 | Train Acc: 0.5461 | Test Acc: 0.5499\n",
            "Epoch  14 | Loss: 481.56737744808197 | Train Acc: 0.5498 | Test Acc: 0.5537\n",
            "Epoch  15 | Loss: 472.9596064090729 | Train Acc: 0.5536 | Test Acc: 0.5561\n",
            "Epoch  16 | Loss: 463.4858852624893 | Train Acc: 0.5583 | Test Acc: 0.5609\n",
            "Epoch  17 | Loss: 453.3715419769287 | Train Acc: 0.5624 | Test Acc: 0.5649\n",
            "Epoch  18 | Loss: 442.69616854190826 | Train Acc: 0.5666 | Test Acc: 0.5711\n",
            "Epoch  19 | Loss: 431.44877409935 | Train Acc: 0.5697 | Test Acc: 0.5753\n",
            "Epoch  20 | Loss: 419.97590017318726 | Train Acc: 0.5734 | Test Acc: 0.5798\n",
            "Epoch  21 | Loss: 408.53435242176056 | Train Acc: 0.5778 | Test Acc: 0.5835\n",
            "Epoch  22 | Loss: 397.1440032720566 | Train Acc: 0.5833 | Test Acc: 0.5885\n",
            "Epoch  23 | Loss: 386.0357834100723 | Train Acc: 0.5885 | Test Acc: 0.5934\n",
            "Epoch  24 | Loss: 375.464497923851 | Train Acc: 0.5961 | Test Acc: 0.6011\n",
            "Epoch  25 | Loss: 365.49589586257935 | Train Acc: 0.6029 | Test Acc: 0.6100\n",
            "Epoch  26 | Loss: 356.11820328235626 | Train Acc: 0.6086 | Test Acc: 0.6147\n",
            "Epoch  27 | Loss: 347.4116995334625 | Train Acc: 0.6139 | Test Acc: 0.6203\n",
            "Epoch  28 | Loss: 339.2968775033951 | Train Acc: 0.6198 | Test Acc: 0.6265\n",
            "Epoch  29 | Loss: 331.90216302871704 | Train Acc: 0.6235 | Test Acc: 0.6304\n",
            "Epoch  30 | Loss: 324.85397267341614 | Train Acc: 0.6284 | Test Acc: 0.6349\n",
            "Epoch  31 | Loss: 318.5215390920639 | Train Acc: 0.6329 | Test Acc: 0.6384\n",
            "Epoch  32 | Loss: 312.4304906129837 | Train Acc: 0.6368 | Test Acc: 0.6413\n",
            "Epoch  33 | Loss: 306.7969195842743 | Train Acc: 0.6409 | Test Acc: 0.6444\n",
            "Epoch  34 | Loss: 301.62187790870667 | Train Acc: 0.6442 | Test Acc: 0.6474\n",
            "Epoch  35 | Loss: 296.78742241859436 | Train Acc: 0.6472 | Test Acc: 0.6508\n",
            "Epoch  36 | Loss: 291.99510288238525 | Train Acc: 0.6497 | Test Acc: 0.6530\n",
            "Epoch  37 | Loss: 287.64582216739655 | Train Acc: 0.6524 | Test Acc: 0.6558\n",
            "Epoch  38 | Loss: 283.534996509552 | Train Acc: 0.6555 | Test Acc: 0.6582\n",
            "Epoch  39 | Loss: 279.59609949588776 | Train Acc: 0.6575 | Test Acc: 0.6596\n",
            "Epoch  40 | Loss: 276.0018252134323 | Train Acc: 0.6597 | Test Acc: 0.6615\n",
            "Epoch  41 | Loss: 272.3912383913994 | Train Acc: 0.6616 | Test Acc: 0.6635\n",
            "Epoch  42 | Loss: 269.2763438820839 | Train Acc: 0.6633 | Test Acc: 0.6656\n",
            "Epoch  43 | Loss: 266.15787917375565 | Train Acc: 0.6651 | Test Acc: 0.6671\n",
            "Epoch  44 | Loss: 263.341761469841 | Train Acc: 0.6665 | Test Acc: 0.6682\n",
            "Epoch  45 | Loss: 260.3820455670357 | Train Acc: 0.6681 | Test Acc: 0.6712\n",
            "Epoch  46 | Loss: 257.70893746614456 | Train Acc: 0.6697 | Test Acc: 0.6728\n",
            "Epoch  47 | Loss: 255.32419055700302 | Train Acc: 0.6713 | Test Acc: 0.6745\n",
            "Epoch  48 | Loss: 252.9423432946205 | Train Acc: 0.6727 | Test Acc: 0.6763\n",
            "Epoch  49 | Loss: 250.55849188566208 | Train Acc: 0.6742 | Test Acc: 0.6774\n",
            "Epoch  50 | Loss: 248.43346059322357 | Train Acc: 0.6757 | Test Acc: 0.6783\n",
            "Epoch  51 | Loss: 246.330850481987 | Train Acc: 0.6770 | Test Acc: 0.6801\n",
            "Epoch  52 | Loss: 244.3966052532196 | Train Acc: 0.6785 | Test Acc: 0.6816\n",
            "Epoch  53 | Loss: 242.53410851955414 | Train Acc: 0.6795 | Test Acc: 0.6821\n",
            "Epoch  54 | Loss: 240.72215926647186 | Train Acc: 0.6802 | Test Acc: 0.6839\n",
            "Epoch  55 | Loss: 238.96256601810455 | Train Acc: 0.6815 | Test Acc: 0.6850\n",
            "Epoch  56 | Loss: 237.4150568842888 | Train Acc: 0.6819 | Test Acc: 0.6853\n",
            "Epoch  57 | Loss: 235.6417790055275 | Train Acc: 0.6835 | Test Acc: 0.6865\n",
            "Epoch  58 | Loss: 234.12955844402313 | Train Acc: 0.6841 | Test Acc: 0.6876\n",
            "Epoch  59 | Loss: 232.6853647828102 | Train Acc: 0.6850 | Test Acc: 0.6884\n",
            "Epoch  60 | Loss: 231.32770150899887 | Train Acc: 0.6859 | Test Acc: 0.6892\n",
            "Epoch  61 | Loss: 229.86223381757736 | Train Acc: 0.6867 | Test Acc: 0.6903\n",
            "Epoch  62 | Loss: 228.6765398979187 | Train Acc: 0.6873 | Test Acc: 0.6911\n",
            "Epoch  63 | Loss: 227.37515145540237 | Train Acc: 0.6879 | Test Acc: 0.6921\n",
            "Epoch  64 | Loss: 226.19061356782913 | Train Acc: 0.6888 | Test Acc: 0.6928\n",
            "Epoch  65 | Loss: 224.88316935300827 | Train Acc: 0.6892 | Test Acc: 0.6940\n",
            "Epoch  66 | Loss: 223.94063645601273 | Train Acc: 0.6899 | Test Acc: 0.6941\n",
            "Epoch  67 | Loss: 222.7489932179451 | Train Acc: 0.6907 | Test Acc: 0.6948\n",
            "Epoch  68 | Loss: 221.70965188741684 | Train Acc: 0.6914 | Test Acc: 0.6950\n",
            "Epoch  69 | Loss: 220.5955006480217 | Train Acc: 0.6920 | Test Acc: 0.6958\n",
            "Epoch  70 | Loss: 219.67618709802628 | Train Acc: 0.6926 | Test Acc: 0.6960\n",
            "Epoch  71 | Loss: 218.62266153097153 | Train Acc: 0.6927 | Test Acc: 0.6969\n",
            "Epoch  72 | Loss: 217.84634083509445 | Train Acc: 0.6936 | Test Acc: 0.6971\n",
            "Epoch  73 | Loss: 216.91092884540558 | Train Acc: 0.6941 | Test Acc: 0.6971\n",
            "Epoch  74 | Loss: 216.14177161455154 | Train Acc: 0.6945 | Test Acc: 0.6977\n",
            "Epoch  75 | Loss: 215.27695298194885 | Train Acc: 0.6951 | Test Acc: 0.6982\n",
            "Epoch  76 | Loss: 214.40753930807114 | Train Acc: 0.6958 | Test Acc: 0.6984\n",
            "Epoch  77 | Loss: 213.57499188184738 | Train Acc: 0.6961 | Test Acc: 0.6990\n",
            "Epoch  78 | Loss: 212.8794303536415 | Train Acc: 0.6965 | Test Acc: 0.6997\n",
            "Epoch  79 | Loss: 212.05247431993484 | Train Acc: 0.6972 | Test Acc: 0.7007\n",
            "Epoch  80 | Loss: 211.41715437173843 | Train Acc: 0.6974 | Test Acc: 0.7005\n",
            "Epoch  81 | Loss: 210.6050655245781 | Train Acc: 0.6980 | Test Acc: 0.7012\n",
            "Epoch  82 | Loss: 209.94512701034546 | Train Acc: 0.6982 | Test Acc: 0.7017\n",
            "Epoch  83 | Loss: 209.37985455989838 | Train Acc: 0.6986 | Test Acc: 0.7021\n",
            "Epoch  84 | Loss: 208.65567243099213 | Train Acc: 0.6989 | Test Acc: 0.7021\n",
            "Epoch  85 | Loss: 208.15123081207275 | Train Acc: 0.6991 | Test Acc: 0.7025\n",
            "Epoch  86 | Loss: 207.49728441238403 | Train Acc: 0.6997 | Test Acc: 0.7025\n",
            "Epoch  87 | Loss: 206.88705176115036 | Train Acc: 0.7001 | Test Acc: 0.7036\n",
            "Epoch  88 | Loss: 206.29539757966995 | Train Acc: 0.7005 | Test Acc: 0.7035\n",
            "Epoch  89 | Loss: 205.7605973482132 | Train Acc: 0.7007 | Test Acc: 0.7037\n",
            "Epoch  90 | Loss: 205.2975086569786 | Train Acc: 0.7012 | Test Acc: 0.7043\n",
            "Epoch  91 | Loss: 204.6570419073105 | Train Acc: 0.7014 | Test Acc: 0.7044\n",
            "Epoch  92 | Loss: 204.18296945095062 | Train Acc: 0.7021 | Test Acc: 0.7053\n",
            "Epoch  93 | Loss: 203.71664476394653 | Train Acc: 0.7025 | Test Acc: 0.7058\n",
            "Epoch  94 | Loss: 203.14257085323334 | Train Acc: 0.7025 | Test Acc: 0.7056\n",
            "Epoch  95 | Loss: 202.6562147140503 | Train Acc: 0.7027 | Test Acc: 0.7059\n",
            "Epoch  96 | Loss: 202.2091115117073 | Train Acc: 0.7034 | Test Acc: 0.7066\n",
            "Epoch  97 | Loss: 201.77649796009064 | Train Acc: 0.7033 | Test Acc: 0.7059\n",
            "Epoch  98 | Loss: 201.35035067796707 | Train Acc: 0.7036 | Test Acc: 0.7061\n",
            "Epoch  99 | Loss: 200.93833178281784 | Train Acc: 0.7039 | Test Acc: 0.7064\n"
          ]
        }
      ]
    },
    {
      "cell_type": "markdown",
      "source": [
        "## [MY CODE] 결과 테스트를 위한 출력"
      ],
      "metadata": {
        "id": "hklgv6eSXR22"
      }
    },
    {
      "cell_type": "code",
      "source": [
        "plot_acc(train_accs, test_accs)\n"
      ],
      "metadata": {
        "colab": {
          "base_uri": "https://localhost:8080/",
          "height": 430
        },
        "id": "lFDJy_QrImiV",
        "outputId": "4a1437db-8ac6-4024-c6ac-a86dcd131544"
      },
      "execution_count": 8,
      "outputs": [
        {
          "output_type": "display_data",
          "data": {
            "text/plain": [
              "<Figure size 640x480 with 1 Axes>"
            ],
            "image/png": "[encoded data removed]"
          },
          "metadata": {}
        }
      ]
    },
    {
      "cell_type": "code",
      "source": [],
      "metadata": {
        "id": "d6M4SpWQoML9"
      },
      "execution_count": null,
      "outputs": []
    }
  ]
}