{
  "cells": [
    {
      "cell_type": "code",
      "execution_count": 33,
      "metadata": {
        "colab": {
          "base_uri": "https://localhost:8080/"
        },
        "id": "1LqgujQUbv6X",
        "outputId": "4b0e7f61-2e14-42ef-fe68-fb17e45b5160",
        "collapsed": true
      },
      "outputs": [
        {
          "output_type": "stream",
          "name": "stdout",
          "text": [
            "Requirement already satisfied: tqdm in /usr/local/lib/python3.10/dist-packages (4.67.1)\n",
            "Requirement already satisfied: boto3 in /usr/local/lib/python3.10/dist-packages (1.35.90)\n",
            "Requirement already satisfied: requests in /usr/local/lib/python3.10/dist-packages (2.32.3)\n",
            "Requirement already satisfied: regex in /usr/local/lib/python3.10/dist-packages (2024.11.6)\n",
            "Requirement already satisfied: sentencepiece in /usr/local/lib/python3.10/dist-packages (0.2.0)\n",
            "Requirement already satisfied: sacremoses in /usr/local/lib/python3.10/dist-packages (0.1.1)\n",
            "Requirement already satisfied: datasets in /usr/local/lib/python3.10/dist-packages (3.2.0)\n",
            "Requirement already satisfied: botocore<1.36.0,>=1.35.90 in /usr/local/lib/python3.10/dist-packages (from boto3) (1.35.90)\n",
            "Requirement already satisfied: jmespath<2.0.0,>=0.7.1 in /usr/local/lib/python3.10/dist-packages (from boto3) (1.0.1)\n",
            "Requirement already satisfied: s3transfer<0.11.0,>=0.10.0 in /usr/local/lib/python3.10/dist-packages (from boto3) (0.10.4)\n",
            "Requirement already satisfied: charset-normalizer<4,>=2 in /usr/local/lib/python3.10/dist-packages (from requests) (3.4.0)\n",
            "Requirement already satisfied: idna<4,>=2.5 in /usr/local/lib/python3.10/dist-packages (from requests) (3.10)\n",
            "Requirement already satisfied: urllib3<3,>=1.21.1 in /usr/local/lib/python3.10/dist-packages (from requests) (2.2.3)\n",
            "Requirement already satisfied: certifi>=2017.4.17 in /usr/local/lib/python3.10/dist-packages (from requests) (2024.12.14)\n",
            "Requirement already satisfied: click in /usr/local/lib/python3.10/dist-packages (from sacremoses) (8.1.7)\n",
            "Requirement already satisfied: joblib in /usr/local/lib/python3.10/dist-packages (from sacremoses) (1.4.2)\n",
            "Requirement already satisfied: filelock in /usr/local/lib/python3.10/dist-packages (from datasets) (3.16.1)\n",
            "Requirement already satisfied: numpy>=1.17 in /usr/local/lib/python3.10/dist-packages (from datasets) (1.26.4)\n",
            "Requirement already satisfied: pyarrow>=15.0.0 in /usr/local/lib/python3.10/dist-packages (from datasets) (17.0.0)\n",
            "Requirement already satisfied: dill<0.3.9,>=0.3.0 in /usr/local/lib/python3.10/dist-packages (from datasets) (0.3.8)\n",
            "Requirement already satisfied: pandas in /usr/local/lib/python3.10/dist-packages (from datasets) (2.2.2)\n",
            "Requirement already satisfied: xxhash in /usr/local/lib/python3.10/dist-packages (from datasets) (3.5.0)\n",
            "Requirement already satisfied: multiprocess<0.70.17 in /usr/local/lib/python3.10/dist-packages (from datasets) (0.70.16)\n",
            "Requirement already satisfied: fsspec<=2024.9.0,>=2023.1.0 in /usr/local/lib/python3.10/dist-packages (from fsspec[http]<=2024.9.0,>=2023.1.0->datasets) (2024.9.0)\n",
            "Requirement already satisfied: aiohttp in /usr/local/lib/python3.10/dist-packages (from datasets) (3.11.10)\n",
            "Requirement already satisfied: huggingface-hub>=0.23.0 in /usr/local/lib/python3.10/dist-packages (from datasets) (0.27.0)\n",
            "Requirement already satisfied: packaging in /usr/local/lib/python3.10/dist-packages (from datasets) (24.2)\n",
            "Requirement already satisfied: pyyaml>=5.1 in /usr/local/lib/python3.10/dist-packages (from datasets) (6.0.2)\n",
            "Requirement already satisfied: python-dateutil<3.0.0,>=2.1 in /usr/local/lib/python3.10/dist-packages (from botocore<1.36.0,>=1.35.90->boto3) (2.8.2)\n",
            "Requirement already satisfied: aiohappyeyeballs>=2.3.0 in /usr/local/lib/python3.10/dist-packages (from aiohttp->datasets) (2.4.4)\n",
            "Requirement already satisfied: aiosignal>=1.1.2 in /usr/local/lib/python3.10/dist-packages (from aiohttp->datasets) (1.3.2)\n",
            "Requirement already satisfied: async-timeout<6.0,>=4.0 in /usr/local/lib/python3.10/dist-packages (from aiohttp->datasets) (4.0.3)\n",
            "Requirement already satisfied: attrs>=17.3.0 in /usr/local/lib/python3.10/dist-packages (from aiohttp->datasets) (24.3.0)\n",
            "Requirement already satisfied: frozenlist>=1.1.1 in /usr/local/lib/python3.10/dist-packages (from aiohttp->datasets) (1.5.0)\n",
            "Requirement already satisfied: multidict<7.0,>=4.5 in /usr/local/lib/python3.10/dist-packages (from aiohttp->datasets) (6.1.0)\n",
            "Requirement already satisfied: propcache>=0.2.0 in /usr/local/lib/python3.10/dist-packages (from aiohttp->datasets) (0.2.1)\n",
            "Requirement already satisfied: yarl<2.0,>=1.17.0 in /usr/local/lib/python3.10/dist-packages (from aiohttp->datasets) (1.18.3)\n",
            "Requirement already satisfied: typing-extensions>=3.7.4.3 in /usr/local/lib/python3.10/dist-packages (from huggingface-hub>=0.23.0->datasets) (4.12.2)\n",
            "Requirement already satisfied: pytz>=2020.1 in /usr/local/lib/python3.10/dist-packages (from pandas->datasets) (2024.2)\n",
            "Requirement already satisfied: tzdata>=2022.7 in /usr/local/lib/python3.10/dist-packages (from pandas->datasets) (2024.2)\n",
            "Requirement already satisfied: six>=1.5 in /usr/local/lib/python3.10/dist-packages (from python-dateutil<3.0.0,>=2.1->botocore<1.36.0,>=1.35.90->boto3) (1.17.0)\n"
          ]
        }
      ],
      "source": [
        "!pip install tqdm boto3 requests regex sentencepiece sacremoses datasets"
      ]
    },
    {
      "cell_type": "code",
      "source": [
        "import pandas as pd\n",
        "import numpy as np\n",
        "from transformers import BertTokenizer, BertTokenizerFast, BertForTokenClassification, AdamW, BertConfig, get_scheduler\n",
        "import torch\n",
        "from torch.utils.data import DataLoader, Dataset\n",
        "from sklearn.model_selection import train_test_split\n",
        "from sklearn.metrics import classification_report\n",
        "from tqdm import tqdm # 과정 보여주는 라이브러리 (멘토링에서 알려줌)\n",
        "import matplotlib.pyplot as plt\n",
        "\n",
        "# 이해를 높히기 위해 전부다 주석을 달아가면서 진행\n",
        "\n",
        "# 설정용\n",
        "class Config:\n",
        "    MAX_LEN = 128\n",
        "    TRAIN_BATCH_SIZE = 16\n",
        "    VAL_BATCH_SIZE = 8\n",
        "    EPOCHS = 5\n",
        "    LEARNING_RATE = 3e-5\n",
        "    MODEL_NAME = 'bert-base-uncased'\n",
        "    NUM_LABELS = None  # 나중에 데이터 셋 기반으로 채울 예정\n",
        "\n",
        "# 현재 cuda만 사용하고 있긴 하지만, 배운김에 넣음\n",
        "device = torch.device(\"cuda\" if torch.cuda.is_available() else \"cpu\")\n"
      ],
      "metadata": {
        "id": "Mb3LjDe6WEl-"
      },
      "execution_count": 34,
      "outputs": []
    },
    {
      "cell_type": "code",
      "source": [
        "# 데이터 불러오는 단계\n",
        "def load_data(file_path):\n",
        "    # CSV 파일에서 데이터를 로드하고, 결측값을 채움\n",
        "    data = pd.read_csv(file_path, encoding='latin-1')\n",
        "\n",
        "    print(data.head()) # 데이터의 첫 몇줄 확인, 결측값 채우기 전에 확인용\n",
        "\n",
        "    data['Sentence #'] = data['Sentence #'].ffill()\n",
        "    # 타겟은 Sentence #로 데이터 셋에서 문장을 구분하는 식별자\n",
        "    # ffill(Foward Fill)로 결측값을 바로 이전 행의 값으로 채움\n",
        "    # 즉 같은 문장 구분끼리는 같은 구분자를 가지게 됨\n",
        "\n",
        "    print(data.head()) # 데이터의 첫 몇 줄을 확인하여 올바르게 로드되었는지 확인\n",
        "\n",
        "    return data\n",
        "\n",
        "file_path = \"NER_dataset.csv\"\n",
        "data = load_data(file_path) # 데이터 불러오기"
      ],
      "metadata": {
        "colab": {
          "base_uri": "https://localhost:8080/"
        },
        "id": "o4yWa542WG0r",
        "outputId": "ab5e0707-d4d7-45d6-b9af-acbe8c5c1493"
      },
      "execution_count": 35,
      "outputs": [
        {
          "output_type": "stream",
          "name": "stdout",
          "text": [
            "    Sentence #           Word  POS Tag\n",
            "0  Sentence: 1      Thousands  NNS   O\n",
            "1          NaN             of   IN   O\n",
            "2          NaN  demonstrators  NNS   O\n",
            "3          NaN           have  VBP   O\n",
            "4          NaN        marched  VBN   O\n",
            "    Sentence #           Word  POS Tag\n",
            "0  Sentence: 1      Thousands  NNS   O\n",
            "1  Sentence: 1             of   IN   O\n",
            "2  Sentence: 1  demonstrators  NNS   O\n",
            "3  Sentence: 1           have  VBP   O\n",
            "4  Sentence: 1        marched  VBN   O\n"
          ]
        }
      ]
    },
    {
      "cell_type": "code",
      "source": [
        "# 데이터 준비 단계\n",
        "def prepare_data(data):\n",
        "    label_list = data['Tag'].unique().tolist() # Tag에 값을 중복 제거한 유일값들만 추출해 리스트로 반환\n",
        "    label_map = {label: idx for idx, label in enumerate(label_list)} # 리스트를 반복해 기존 Tag에 순번을 매겨 Tag : index 형식으로 숫자를 매핑\n",
        "    data['Tag'] = data['Tag'].map(label_map) # 기존 data에 Tag 값을 숫자로 변환\n",
        "    grouped = data.groupby('Sentence #').agg({'Word': list, 'Tag': list}) # 문장(Sentence #)별로 단어와 태그를 그룹화\n",
        "    print(grouped.head()) # 그룹화 된 데이터 확인\n",
        "    print(label_map) # 태그를 숫자로 매핑한 딕셔너리 확인\n",
        "    return grouped, label_map # groupe: 문장 번호 기준으로 그룹화 된 데이터 프레임, label_map: 태그를 숫자로 매핑한 딕셔너리\n",
        "\n",
        "grouped_data, label_map = prepare_data(data) # 데이터 준비\n",
        "Config.NUM_LABELS = len(label_map)\n"
      ],
      "metadata": {
        "colab": {
          "base_uri": "https://localhost:8080/"
        },
        "id": "I7dhMrsaWLtL",
        "outputId": "f8fe495f-e3f6-4dad-b7ef-87d2d9fbfbff"
      },
      "execution_count": 36,
      "outputs": [
        {
          "output_type": "stream",
          "name": "stdout",
          "text": [
            "                                                              Word  \\\n",
            "Sentence #                                                           \n",
            "Sentence: 1      [Thousands, of, demonstrators, have, marched, ...   \n",
            "Sentence: 10     [Iranian, officials, say, they, expect, to, ge...   \n",
            "Sentence: 100    [Helicopter, gunships, Saturday, pounded, mili...   \n",
            "Sentence: 1000   [They, left, after, a, tense, hour-long, stand...   \n",
            "Sentence: 10000  [U.N., relief, coordinator, Jan, Egeland, said...   \n",
            "\n",
            "                                                               Tag  \n",
            "Sentence #                                                          \n",
            "Sentence: 1      [0, 0, 0, 0, 0, 0, 1, 0, 0, 0, 0, 0, 1, 0, 0, ...  \n",
            "Sentence: 10     [2, 0, 0, 0, 0, 0, 0, 0, 0, 0, 0, 0, 0, 0, 0, ...  \n",
            "Sentence: 100    [0, 0, 7, 0, 0, 0, 0, 0, 1, 0, 0, 0, 0, 0, 5, ...  \n",
            "Sentence: 1000                   [0, 0, 0, 0, 0, 0, 0, 0, 0, 0, 0]  \n",
            "Sentence: 10000  [1, 0, 0, 3, 10, 0, 7, 0, 1, 0, 2, 0, 2, 0, 0,...  \n",
            "{'O': 0, 'B-geo': 1, 'B-gpe': 2, 'B-per': 3, 'I-geo': 4, 'B-org': 5, 'I-org': 6, 'B-tim': 7, 'B-art': 8, 'I-art': 9, 'I-per': 10, 'I-gpe': 11, 'I-tim': 12, 'B-nat': 13, 'B-eve': 14, 'I-eve': 15, 'I-nat': 16}\n"
          ]
        }
      ]
    },
    {
      "cell_type": "code",
      "source": [
        "# 데이터셋을 학습용과 검증용으로 분리\n",
        "train_texts, val_texts, train_tags, val_tags = train_test_split(\n",
        "    grouped_data['Word'].values.tolist(),  # 그룹화 된 데이터에서 단어를 추출해 리스트로 분리\n",
        "    grouped_data['Tag'].values.tolist(),  # 그룹화 된 데이터에서 태그를 추출해 리스트로 분리\n",
        "    test_size=0.1, # 데이터 나눌 때 검증 데이터의 비율 (10%)\n",
        "    random_state=42 # 결과 재현을 위해 랜덤 시드를 고정해서 설정함\n",
        ")\n",
        "\n",
        "# 분리된 데이터 확인\n",
        "print(\"Train Samples:\", len(train_texts)) # 학습용 단어 길이\n",
        "print(\"Validation Samples:\", len(val_texts)) # 테스트용 단어 길이\n",
        "print(\"Example Training Data:\", train_texts[0], train_tags[0]) # 데이터 일부 확인\n"
      ],
      "metadata": {
        "colab": {
          "base_uri": "https://localhost:8080/"
        },
        "id": "fUJRMYyUWQZS",
        "outputId": "0629f6c1-00f9-4f3b-9a6b-343f92edad33"
      },
      "execution_count": 37,
      "outputs": [
        {
          "output_type": "stream",
          "name": "stdout",
          "text": [
            "Train Samples: 43163\n",
            "Validation Samples: 4796\n",
            "Example Training Data: ['Kremlin', 'officials', 'insisted', 'that', 'they', 'are', 'cracking', 'down', 'on', 'corporate', 'crime', '.'] [5, 0, 0, 0, 0, 0, 0, 0, 0, 0, 0, 0]\n"
          ]
        }
      ]
    },
    {
      "cell_type": "code",
      "source": [
        "\n",
        "# Dataset 기반으로 NER 학습용 Dataset으로 변경하는 용도\n",
        "class NERDataset(Dataset):\n",
        "    def __init__(self, texts, tags, tokenizer, max_len):\n",
        "        self.texts = texts # 문장 단위에 텍스트 데이터 리스트\n",
        "        self.tags = tags # 문장 단위에 태그 데이터 리스트\n",
        "        self.tokenizer = tokenizer # BERT 토크나이저 빠른 버전\n",
        "        self.max_len = max_len # 모델 입력의 최대 길이. 현재 128\n",
        "\n",
        "    def __len__(self):\n",
        "        return len(self.texts)\n",
        "\n",
        "    def __getitem__(self, idx):\n",
        "        text = self.texts[idx] # 현재 인덱스에 해당하는 텍스트 가져옴\n",
        "        tag = self.tags[idx] # 현재 인덱스에 해당하는 태그 가져옴\n",
        "\n",
        "        # [S] 데이터 유효성 검사 추가\n",
        "        # 형식 오류가 나서 데이터 통일을 위해 추가\n",
        "        if not isinstance(text, list): # 리스트 형식이 아니면 예외 처리\n",
        "            print(f\"Invalid text format at index {idx}: {text}\")\n",
        "            text = [str(word) for word in text] if hasattr(text, '__iter__') else [str(text)]\n",
        "\n",
        "        # 모든 단어를 문자열로 변환해 데이터 타입을 통일\n",
        "        text = [str(word) for word in text]\n",
        "        # [E] 데이터 유효성 검사 추가\n",
        "\n",
        "        # 텍스트를 토크나이징해 BERT 입력 형식으로 변환하는 용도\n",
        "        encoding = self.tokenizer(\n",
        "            text, # 현재 인덱스에 해당하는 문장 단위 텍스트\n",
        "            is_split_into_words=True, # 단어별로 분리된 입력 처리\n",
        "            truncation=True, # max_len 초과하는 입력은 자르기\n",
        "            padding='max_length', # max_len에 맞춰 패딩\n",
        "            max_length=self.max_len, # 기준이 될 최대 입력 길이 설정\n",
        "            return_tensors='pt' # PyTorch 텐서로 변환\n",
        "        )\n",
        "\n",
        "        # 토큰에 맞춰 태그를 재정렬\n",
        "        labels = [-100] * len(encoding['input_ids'][0]) # 패딩 토큰에 대해 -100으로 초기화\n",
        "        word_ids = encoding.word_ids() # 각 토큰이 원래 단어와 매핑되는 ID 가져옴\n",
        "\n",
        "        for i, word_idx in enumerate(word_ids): # 토큰 단위로 반복\n",
        "            if word_idx is not None and word_idx < len(tag):\n",
        "                labels[i] = tag[word_idx] # 토큰이 실제 단어와 매핑되면 해당 태그를 할당\n",
        "\n",
        "        return {\n",
        "            'input_ids': encoding['input_ids'].squeeze(0), # BERT 입력 토큰 ID\n",
        "            'attention_mask': encoding['attention_mask'].squeeze(0), # 패딩 여부를 나타내는 마스크\n",
        "            'labels': torch.tensor(labels, dtype=torch.long) # 정렬된 태그(-100 포함)\n",
        "        }\n",
        "\n",
        "\n",
        "\n",
        "#tokenizer = BertTokenizer.from_pretrained(Config.MODEL_NAME)\n",
        "tokenizer = BertTokenizerFast.from_pretrained(Config.MODEL_NAME) # 소중한 내 리소스를 위해 빠른 버전 사용\n",
        "# BERT 모델에 입력 가능하도록 단어를 토큰으로 변화시켜주는 용도\n",
        "# BERT는 ID, Attention MASK, Token Type을 요구해서 토크나이저를 사용해 변환\n",
        "\n",
        " # 기존 데이터셋을 기반으로 NERDataset 생성\n",
        "train_dataset = NERDataset(train_texts, train_tags, tokenizer, Config.MAX_LEN)\n",
        "val_dataset = NERDataset(val_texts, val_tags, tokenizer, Config.MAX_LEN)\n",
        "\n",
        "# val도 어차피 내용은 똑같으니 sample은 하나만 확인\n",
        "sample = train_dataset[0]\n",
        "print(\"Sample Input IDs:\", sample['input_ids'][:5]) # 단어를 숫자로 변환한 ID\n",
        "print(\"Sample Attention Mask:\", sample['attention_mask'][:5]) # 입력 단어에 대한 마스크 (패딩 여부)\n",
        "print(\"Sample Labels:\", sample['labels'][:5]) # 토큰화된 입력에 맞춰 조정된 NER 태그\n"
      ],
      "metadata": {
        "colab": {
          "base_uri": "https://localhost:8080/"
        },
        "id": "dvAIxjyqWX-c",
        "outputId": "214c6454-6c39-4d85-b581-7dbc8adb5258"
      },
      "execution_count": 38,
      "outputs": [
        {
          "output_type": "stream",
          "name": "stdout",
          "text": [
            "Sample Input IDs: tensor([  101,  1047, 28578,  4115,  4584])\n",
            "Sample Attention Mask: tensor([1, 1, 1, 1, 1])\n",
            "Sample Labels: tensor([-100,    5,    5,    5,    0])\n"
          ]
        }
      ]
    },
    {
      "cell_type": "code",
      "source": [
        "\n",
        "# 학습 및 검증 데이터 로더 생성\n",
        "train_loader = DataLoader(train_dataset, batch_size=Config.TRAIN_BATCH_SIZE, shuffle=True) # 학습용 데이터 섞기\n",
        "val_loader = DataLoader(val_dataset, batch_size=Config.VAL_BATCH_SIZE)\n",
        "\n",
        "# 데이터 로더 확인\n",
        "batch = next(iter(train_loader))  # 확인용 첫 번째 배치 가져오기\n",
        "print(\"Batch Input IDs:\", batch['input_ids'].shape)\n",
        "print(\"Batch Attention Mask:\", batch['attention_mask'].shape)\n",
        "print(\"Batch Labels:\", batch['labels'].shape)\n"
      ],
      "metadata": {
        "colab": {
          "base_uri": "https://localhost:8080/"
        },
        "id": "wrjm99TyWcrj",
        "outputId": "5de860a6-7c9f-4e5f-de6f-0c0a4a96e38e"
      },
      "execution_count": 39,
      "outputs": [
        {
          "output_type": "stream",
          "name": "stdout",
          "text": [
            "Batch Input IDs: torch.Size([16, 128])\n",
            "Batch Attention Mask: torch.Size([16, 128])\n",
            "Batch Labels: torch.Size([16, 128])\n"
          ]
        }
      ]
    },
    {
      "cell_type": "code",
      "source": [
        "\n",
        "# 모델 초기화\n",
        "model = BertForTokenClassification.from_pretrained(\n",
        "    Config.MODEL_NAME,  # 사전 학습된 BERT 모델 이름 (현재: 'bert-base-uncased')\n",
        "    num_labels=Config.NUM_LABELS  # 출력 레이블의 수 (이전에 데이터셋 Tag 기준으로 맞춰둠)\n",
        ")\n",
        "model.to(device)  # 모델을 GPU 또는 CPU로 이동\n",
        "\n",
        "# 옵티마이저 설정\n",
        "optimizer = AdamW(model.parameters(), lr=Config.LEARNING_RATE)\n",
        "# 아 이거 torch.optim.AdamW로 바꿨어야 하는데. 다시 돌리기엔 리소스가 모자람....\n",
        "\n",
        "# 학습 스케줄러 설정\n",
        "scheduler = get_scheduler(\n",
        "    \"linear\",  # 스케줄러 유형 (선형 감속 스케줄러)\n",
        "    optimizer=optimizer,\n",
        "    num_warmup_steps=0,  # 워밍업 단계 수\n",
        "    num_training_steps=len(train_loader) * Config.EPOCHS  # 총 학습 단계 수\n",
        ")\n",
        "\n",
        "# 사전 학습되지 않은 모델 초기화\n",
        "untrained_config = BertConfig.from_pretrained(Config.MODEL_NAME, num_labels=Config.NUM_LABELS)\n",
        "untrained_model = BertForTokenClassification(untrained_config)\n",
        "untrained_model.to(device)\n",
        "\n",
        "# 동일한 옵티마이저 및 스케줄러 설정(위와 동일하니 설명은 생략)\n",
        "untrained_optimizer = AdamW(untrained_model.parameters(), lr=Config.LEARNING_RATE)\n",
        "untrained_scheduler = get_scheduler(\n",
        "    \"linear\",\n",
        "    optimizer=untrained_optimizer,\n",
        "    num_warmup_steps=0,\n",
        "    num_training_steps=len(train_loader) * Config.EPOCHS\n",
        ")\n"
      ],
      "metadata": {
        "colab": {
          "base_uri": "https://localhost:8080/"
        },
        "id": "zYY4Oe90XtgD",
        "outputId": "e8296d01-6d95-4904-f51e-23cae6e91d7a"
      },
      "execution_count": 40,
      "outputs": [
        {
          "output_type": "stream",
          "name": "stderr",
          "text": [
            "Some weights of BertForTokenClassification were not initialized from the model checkpoint at bert-base-uncased and are newly initialized: ['classifier.bias', 'classifier.weight']\n",
            "You should probably TRAIN this model on a down-stream task to be able to use it for predictions and inference.\n",
            "/usr/local/lib/python3.10/dist-packages/transformers/optimization.py:591: FutureWarning: This implementation of AdamW is deprecated and will be removed in a future version. Use the PyTorch implementation torch.optim.AdamW instead, or set `no_deprecation_warning=True` to disable this warning\n",
            "  warnings.warn(\n"
          ]
        }
      ]
    },
    {
      "cell_type": "code",
      "execution_count": 41,
      "metadata": {
        "colab": {
          "base_uri": "https://localhost:8080/"
        },
        "id": "6lGiZUoPby6e",
        "outputId": "22d5a984-30ab-40ee-8767-c624bd545493"
      },
      "outputs": [
        {
          "output_type": "stream",
          "name": "stdout",
          "text": [
            "Epoch 1/5 - Pre-trained Model\n"
          ]
        },
        {
          "output_type": "stream",
          "name": "stderr",
          "text": [
            "100%|██████████| 2698/2698 [04:03<00:00, 11.08it/s]\n"
          ]
        },
        {
          "output_type": "stream",
          "name": "stdout",
          "text": [
            "Train Loss: 0.18323577485779774\n"
          ]
        },
        {
          "output_type": "stream",
          "name": "stderr",
          "text": [
            "100%|██████████| 600/600 [00:12<00:00, 49.45it/s]\n"
          ]
        },
        {
          "output_type": "stream",
          "name": "stdout",
          "text": [
            "Evaluation Report:\n",
            "              precision    recall  f1-score   support\n",
            "\n",
            "           O       0.99      0.99      0.99     94743\n",
            "       B-geo       0.84      0.90      0.86      5908\n",
            "       B-gpe       0.96      0.91      0.94      1735\n",
            "       B-per       0.84      0.83      0.83      2625\n",
            "       I-geo       0.69      0.80      0.74       861\n",
            "       B-org       0.76      0.68      0.72      3429\n",
            "       I-org       0.74      0.62      0.67      2102\n",
            "       B-tim       0.92      0.85      0.89      2207\n",
            "       B-art       0.00      0.00      0.00        80\n",
            "       I-art       0.00      0.00      0.00        43\n",
            "       I-per       0.82      0.94      0.88      3148\n",
            "       I-gpe       1.00      0.65      0.79        20\n",
            "       I-tim       0.79      0.78      0.78       625\n",
            "       B-nat       0.50      0.08      0.14        24\n",
            "       B-eve       0.55      0.28      0.37        40\n",
            "       I-eve       0.53      0.19      0.28        42\n",
            "       I-nat       0.00      0.00      0.00         7\n",
            "\n",
            "    accuracy                           0.96    117639\n",
            "   macro avg       0.64      0.56      0.58    117639\n",
            "weighted avg       0.95      0.96      0.96    117639\n",
            "\n",
            "line skip:     accuracy                           0.96    117639\n",
            "Epoch 2/5 - Pre-trained Model\n"
          ]
        },
        {
          "output_type": "stream",
          "name": "stderr",
          "text": [
            "100%|██████████| 2698/2698 [04:02<00:00, 11.14it/s]\n"
          ]
        },
        {
          "output_type": "stream",
          "name": "stdout",
          "text": [
            "Train Loss: 0.11192740995666113\n"
          ]
        },
        {
          "output_type": "stream",
          "name": "stderr",
          "text": [
            "100%|██████████| 600/600 [00:12<00:00, 48.09it/s]\n"
          ]
        },
        {
          "output_type": "stream",
          "name": "stdout",
          "text": [
            "Evaluation Report:\n",
            "              precision    recall  f1-score   support\n",
            "\n",
            "           O       0.99      0.99      0.99     94743\n",
            "       B-geo       0.84      0.92      0.88      5908\n",
            "       B-gpe       0.94      0.93      0.94      1735\n",
            "       B-per       0.86      0.84      0.85      2625\n",
            "       I-geo       0.66      0.84      0.74       861\n",
            "       B-org       0.82      0.66      0.73      3429\n",
            "       I-org       0.77      0.64      0.70      2102\n",
            "       B-tim       0.89      0.89      0.89      2207\n",
            "       B-art       0.21      0.10      0.13        80\n",
            "       I-art       0.50      0.02      0.04        43\n",
            "       I-per       0.84      0.94      0.89      3148\n",
            "       I-gpe       0.93      0.65      0.76        20\n",
            "       I-tim       0.81      0.80      0.81       625\n",
            "       B-nat       0.29      0.29      0.29        24\n",
            "       B-eve       0.48      0.28      0.35        40\n",
            "       I-eve       0.80      0.19      0.31        42\n",
            "       I-nat       0.00      0.00      0.00         7\n",
            "\n",
            "    accuracy                           0.96    117639\n",
            "   macro avg       0.68      0.59      0.61    117639\n",
            "weighted avg       0.96      0.96      0.96    117639\n",
            "\n",
            "line skip:     accuracy                           0.96    117639\n",
            "Epoch 3/5 - Pre-trained Model\n"
          ]
        },
        {
          "output_type": "stream",
          "name": "stderr",
          "text": [
            "100%|██████████| 2698/2698 [04:03<00:00, 11.06it/s]\n"
          ]
        },
        {
          "output_type": "stream",
          "name": "stdout",
          "text": [
            "Train Loss: 0.08197626312628521\n"
          ]
        },
        {
          "output_type": "stream",
          "name": "stderr",
          "text": [
            "100%|██████████| 600/600 [00:12<00:00, 48.22it/s]\n"
          ]
        },
        {
          "output_type": "stream",
          "name": "stdout",
          "text": [
            "Evaluation Report:\n",
            "              precision    recall  f1-score   support\n",
            "\n",
            "           O       0.99      0.99      0.99     94743\n",
            "       B-geo       0.87      0.91      0.89      5908\n",
            "       B-gpe       0.95      0.94      0.95      1735\n",
            "       B-per       0.82      0.87      0.85      2625\n",
            "       I-geo       0.80      0.76      0.78       861\n",
            "       B-org       0.83      0.67      0.74      3429\n",
            "       I-org       0.78      0.64      0.71      2102\n",
            "       B-tim       0.89      0.89      0.89      2207\n",
            "       B-art       0.21      0.19      0.20        80\n",
            "       I-art       0.25      0.02      0.04        43\n",
            "       I-per       0.83      0.95      0.89      3148\n",
            "       I-gpe       1.00      0.60      0.75        20\n",
            "       I-tim       0.80      0.77      0.78       625\n",
            "       B-nat       0.50      0.12      0.20        24\n",
            "       B-eve       0.55      0.30      0.39        40\n",
            "       I-eve       0.65      0.26      0.37        42\n",
            "       I-nat       1.00      0.29      0.44         7\n",
            "\n",
            "    accuracy                           0.96    117639\n",
            "   macro avg       0.75      0.60      0.64    117639\n",
            "weighted avg       0.96      0.96      0.96    117639\n",
            "\n",
            "line skip:     accuracy                           0.96    117639\n",
            "Epoch 4/5 - Pre-trained Model\n"
          ]
        },
        {
          "output_type": "stream",
          "name": "stderr",
          "text": [
            "100%|██████████| 2698/2698 [04:03<00:00, 11.06it/s]\n"
          ]
        },
        {
          "output_type": "stream",
          "name": "stdout",
          "text": [
            "Train Loss: 0.05886933865219636\n"
          ]
        },
        {
          "output_type": "stream",
          "name": "stderr",
          "text": [
            "100%|██████████| 600/600 [00:12<00:00, 48.13it/s]\n"
          ]
        },
        {
          "output_type": "stream",
          "name": "stdout",
          "text": [
            "Evaluation Report:\n",
            "              precision    recall  f1-score   support\n",
            "\n",
            "           O       0.99      0.99      0.99     94743\n",
            "       B-geo       0.88      0.89      0.89      5908\n",
            "       B-gpe       0.94      0.94      0.94      1735\n",
            "       B-per       0.84      0.86      0.85      2625\n",
            "       I-geo       0.80      0.76      0.78       861\n",
            "       B-org       0.77      0.74      0.76      3429\n",
            "       I-org       0.74      0.73      0.73      2102\n",
            "       B-tim       0.89      0.90      0.90      2207\n",
            "       B-art       0.24      0.21      0.23        80\n",
            "       I-art       0.29      0.05      0.08        43\n",
            "       I-per       0.87      0.90      0.89      3148\n",
            "       I-gpe       0.92      0.60      0.73        20\n",
            "       I-tim       0.78      0.82      0.80       625\n",
            "       B-nat       0.56      0.21      0.30        24\n",
            "       B-eve       0.44      0.30      0.36        40\n",
            "       I-eve       0.50      0.31      0.38        42\n",
            "       I-nat       1.00      0.29      0.44         7\n",
            "\n",
            "    accuracy                           0.96    117639\n",
            "   macro avg       0.73      0.62      0.65    117639\n",
            "weighted avg       0.96      0.96      0.96    117639\n",
            "\n",
            "line skip:     accuracy                           0.96    117639\n",
            "Epoch 5/5 - Pre-trained Model\n"
          ]
        },
        {
          "output_type": "stream",
          "name": "stderr",
          "text": [
            "100%|██████████| 2698/2698 [04:04<00:00, 11.06it/s]\n"
          ]
        },
        {
          "output_type": "stream",
          "name": "stdout",
          "text": [
            "Train Loss: 0.04396085319264769\n"
          ]
        },
        {
          "output_type": "stream",
          "name": "stderr",
          "text": [
            "100%|██████████| 600/600 [00:12<00:00, 47.82it/s]\n"
          ]
        },
        {
          "output_type": "stream",
          "name": "stdout",
          "text": [
            "Evaluation Report:\n",
            "              precision    recall  f1-score   support\n",
            "\n",
            "           O       0.99      0.99      0.99     94743\n",
            "       B-geo       0.87      0.90      0.89      5908\n",
            "       B-gpe       0.95      0.94      0.94      1735\n",
            "       B-per       0.84      0.86      0.85      2625\n",
            "       I-geo       0.77      0.78      0.78       861\n",
            "       B-org       0.79      0.73      0.76      3429\n",
            "       I-org       0.76      0.70      0.73      2102\n",
            "       B-tim       0.90      0.90      0.90      2207\n",
            "       B-art       0.24      0.20      0.22        80\n",
            "       I-art       0.29      0.05      0.08        43\n",
            "       I-per       0.86      0.92      0.89      3148\n",
            "       I-gpe       0.92      0.60      0.73        20\n",
            "       I-tim       0.80      0.80      0.80       625\n",
            "       B-nat       0.60      0.25      0.35        24\n",
            "       B-eve       0.48      0.33      0.39        40\n",
            "       I-eve       0.46      0.31      0.37        42\n",
            "       I-nat       1.00      0.43      0.60         7\n",
            "\n",
            "    accuracy                           0.96    117639\n",
            "   macro avg       0.74      0.63      0.66    117639\n",
            "weighted avg       0.96      0.96      0.96    117639\n",
            "\n",
            "line skip:     accuracy                           0.96    117639\n",
            "Epoch 1/5 - Untrained Model\n"
          ]
        },
        {
          "output_type": "stream",
          "name": "stderr",
          "text": [
            "100%|██████████| 2698/2698 [04:04<00:00, 11.04it/s]\n"
          ]
        },
        {
          "output_type": "stream",
          "name": "stdout",
          "text": [
            "Train Loss: 0.39474072824580925\n"
          ]
        },
        {
          "output_type": "stream",
          "name": "stderr",
          "text": [
            "100%|██████████| 600/600 [00:12<00:00, 48.02it/s]\n"
          ]
        },
        {
          "output_type": "stream",
          "name": "stdout",
          "text": [
            "Evaluation Report:\n",
            "              precision    recall  f1-score   support\n",
            "\n",
            "           O       0.96      0.99      0.97     94743\n",
            "       B-geo       0.73      0.79      0.76      5908\n",
            "       B-gpe       0.92      0.80      0.86      1735\n",
            "       B-per       0.77      0.53      0.63      2625\n",
            "       I-geo       0.60      0.48      0.53       861\n",
            "       B-org       0.74      0.45      0.56      3429\n",
            "       I-org       0.70      0.28      0.40      2102\n",
            "       B-tim       0.86      0.70      0.77      2207\n",
            "       B-art       0.00      0.00      0.00        80\n",
            "       I-art       0.00      0.00      0.00        43\n",
            "       I-per       0.55      0.89      0.68      3148\n",
            "       I-gpe       0.80      0.20      0.32        20\n",
            "       I-tim       0.83      0.20      0.32       625\n",
            "       B-nat       0.00      0.00      0.00        24\n",
            "       B-eve       0.71      0.12      0.21        40\n",
            "       I-eve       0.00      0.00      0.00        42\n",
            "       I-nat       0.00      0.00      0.00         7\n",
            "\n",
            "    accuracy                           0.92    117639\n",
            "   macro avg       0.54      0.38      0.41    117639\n",
            "weighted avg       0.91      0.92      0.91    117639\n",
            "\n",
            "line skip:     accuracy                           0.92    117639\n",
            "Epoch 2/5 - Untrained Model\n"
          ]
        },
        {
          "output_type": "stream",
          "name": "stderr",
          "text": [
            "100%|██████████| 2698/2698 [04:04<00:00, 11.04it/s]\n"
          ]
        },
        {
          "output_type": "stream",
          "name": "stdout",
          "text": [
            "Train Loss: 0.23865669108568252\n"
          ]
        },
        {
          "output_type": "stream",
          "name": "stderr",
          "text": [
            "100%|██████████| 600/600 [00:12<00:00, 48.08it/s]\n"
          ]
        },
        {
          "output_type": "stream",
          "name": "stdout",
          "text": [
            "Evaluation Report:\n",
            "              precision    recall  f1-score   support\n",
            "\n",
            "           O       0.97      0.99      0.98     94743\n",
            "       B-geo       0.81      0.82      0.81      5908\n",
            "       B-gpe       0.94      0.88      0.91      1735\n",
            "       B-per       0.77      0.70      0.73      2625\n",
            "       I-geo       0.81      0.49      0.61       861\n",
            "       B-org       0.71      0.60      0.65      3429\n",
            "       I-org       0.64      0.54      0.58      2102\n",
            "       B-tim       0.88      0.73      0.80      2207\n",
            "       B-art       0.00      0.00      0.00        80\n",
            "       I-art       0.00      0.00      0.00        43\n",
            "       I-per       0.80      0.79      0.80      3148\n",
            "       I-gpe       0.83      0.25      0.38        20\n",
            "       I-tim       0.66      0.60      0.63       625\n",
            "       B-nat       0.50      0.04      0.08        24\n",
            "       B-eve       0.71      0.12      0.21        40\n",
            "       I-eve       0.00      0.00      0.00        42\n",
            "       I-nat       0.00      0.00      0.00         7\n",
            "\n",
            "    accuracy                           0.93    117639\n",
            "   macro avg       0.59      0.44      0.48    117639\n",
            "weighted avg       0.93      0.93      0.93    117639\n",
            "\n",
            "line skip:     accuracy                           0.93    117639\n",
            "Epoch 3/5 - Untrained Model\n"
          ]
        },
        {
          "output_type": "stream",
          "name": "stderr",
          "text": [
            "100%|██████████| 2698/2698 [04:04<00:00, 11.03it/s]\n"
          ]
        },
        {
          "output_type": "stream",
          "name": "stdout",
          "text": [
            "Train Loss: 0.18241328894374015\n"
          ]
        },
        {
          "output_type": "stream",
          "name": "stderr",
          "text": [
            "100%|██████████| 600/600 [00:12<00:00, 47.97it/s]\n"
          ]
        },
        {
          "output_type": "stream",
          "name": "stdout",
          "text": [
            "Evaluation Report:\n",
            "              precision    recall  f1-score   support\n",
            "\n",
            "           O       0.97      0.99      0.98     94743\n",
            "       B-geo       0.82      0.84      0.83      5908\n",
            "       B-gpe       0.93      0.89      0.91      1735\n",
            "       B-per       0.76      0.75      0.76      2625\n",
            "       I-geo       0.83      0.54      0.65       861\n",
            "       B-org       0.74      0.60      0.66      3429\n",
            "       I-org       0.71      0.48      0.57      2102\n",
            "       B-tim       0.89      0.78      0.83      2207\n",
            "       B-art       0.00      0.00      0.00        80\n",
            "       I-art       0.00      0.00      0.00        43\n",
            "       I-per       0.77      0.90      0.83      3148\n",
            "       I-gpe       0.88      0.35      0.50        20\n",
            "       I-tim       0.70      0.70      0.70       625\n",
            "       B-nat       0.40      0.17      0.24        24\n",
            "       B-eve       0.43      0.15      0.22        40\n",
            "       I-eve       0.50      0.02      0.05        42\n",
            "       I-nat       0.00      0.00      0.00         7\n",
            "\n",
            "    accuracy                           0.94    117639\n",
            "   macro avg       0.61      0.48      0.51    117639\n",
            "weighted avg       0.94      0.94      0.94    117639\n",
            "\n",
            "line skip:     accuracy                           0.94    117639\n",
            "Epoch 4/5 - Untrained Model\n"
          ]
        },
        {
          "output_type": "stream",
          "name": "stderr",
          "text": [
            "100%|██████████| 2698/2698 [04:04<00:00, 11.03it/s]\n"
          ]
        },
        {
          "output_type": "stream",
          "name": "stdout",
          "text": [
            "Train Loss: 0.14729305073754204\n"
          ]
        },
        {
          "output_type": "stream",
          "name": "stderr",
          "text": [
            "100%|██████████| 600/600 [00:12<00:00, 47.78it/s]\n"
          ]
        },
        {
          "output_type": "stream",
          "name": "stdout",
          "text": [
            "Evaluation Report:\n",
            "              precision    recall  f1-score   support\n",
            "\n",
            "           O       0.98      0.98      0.98     94743\n",
            "       B-geo       0.84      0.84      0.84      5908\n",
            "       B-gpe       0.95      0.89      0.92      1735\n",
            "       B-per       0.76      0.78      0.77      2625\n",
            "       I-geo       0.77      0.61      0.68       861\n",
            "       B-org       0.68      0.67      0.68      3429\n",
            "       I-org       0.59      0.62      0.60      2102\n",
            "       B-tim       0.88      0.80      0.84      2207\n",
            "       B-art       0.00      0.00      0.00        80\n",
            "       I-art       0.00      0.00      0.00        43\n",
            "       I-per       0.80      0.88      0.84      3148\n",
            "       I-gpe       0.88      0.35      0.50        20\n",
            "       I-tim       0.65      0.75      0.70       625\n",
            "       B-nat       0.28      0.29      0.29        24\n",
            "       B-eve       0.37      0.17      0.24        40\n",
            "       I-eve       0.25      0.07      0.11        42\n",
            "       I-nat       0.00      0.00      0.00         7\n",
            "\n",
            "    accuracy                           0.94    117639\n",
            "   macro avg       0.57      0.51      0.53    117639\n",
            "weighted avg       0.94      0.94      0.94    117639\n",
            "\n",
            "line skip:     accuracy                           0.94    117639\n",
            "Epoch 5/5 - Untrained Model\n"
          ]
        },
        {
          "output_type": "stream",
          "name": "stderr",
          "text": [
            "100%|██████████| 2698/2698 [04:04<00:00, 11.04it/s]\n"
          ]
        },
        {
          "output_type": "stream",
          "name": "stdout",
          "text": [
            "Train Loss: 0.12081848664466067\n"
          ]
        },
        {
          "output_type": "stream",
          "name": "stderr",
          "text": [
            "100%|██████████| 600/600 [00:12<00:00, 47.78it/s]\n"
          ]
        },
        {
          "output_type": "stream",
          "name": "stdout",
          "text": [
            "Evaluation Report:\n",
            "              precision    recall  f1-score   support\n",
            "\n",
            "           O       0.98      0.99      0.98     94743\n",
            "       B-geo       0.84      0.85      0.85      5908\n",
            "       B-gpe       0.94      0.91      0.92      1735\n",
            "       B-per       0.78      0.78      0.78      2625\n",
            "       I-geo       0.74      0.67      0.71       861\n",
            "       B-org       0.71      0.66      0.68      3429\n",
            "       I-org       0.64      0.61      0.62      2102\n",
            "       B-tim       0.87      0.82      0.84      2207\n",
            "       B-art       0.33      0.03      0.05        80\n",
            "       I-art       0.00      0.00      0.00        43\n",
            "       I-per       0.81      0.88      0.85      3148\n",
            "       I-gpe       0.88      0.35      0.50        20\n",
            "       I-tim       0.71      0.74      0.73       625\n",
            "       B-nat       0.31      0.21      0.25        24\n",
            "       B-eve       0.33      0.17      0.23        40\n",
            "       I-eve       0.38      0.12      0.18        42\n",
            "       I-nat       0.00      0.00      0.00         7\n",
            "\n",
            "    accuracy                           0.95    117639\n",
            "   macro avg       0.60      0.52      0.54    117639\n",
            "weighted avg       0.94      0.95      0.94    117639\n",
            "\n",
            "line skip:     accuracy                           0.95    117639\n"
          ]
        }
      ],
      "source": [
        "\n",
        "\n",
        "# 학습 기능\n",
        "def train_epoch(model, data_loader, optimizer, scheduler, device):\n",
        "    model.train() # 모델을 학습 모드로 설정\n",
        "    total_loss = 0\n",
        "\n",
        "    for batch in tqdm(data_loader): # 배치 단위로 데이터를 처리하면서 과정 확인을 위해 tqdm 사용\n",
        "        input_ids = batch['input_ids'].to(device)\n",
        "        attention_mask = batch['attention_mask'].to(device)\n",
        "        labels = batch['labels'].to(device)\n",
        "\n",
        "        outputs = model(input_ids, attention_mask=attention_mask, labels=labels)\n",
        "        loss = outputs.loss # 손실 계산\n",
        "\n",
        "        optimizer.zero_grad() # 그래디언트 초기화\n",
        "        loss.backward() # 역전파 수행\n",
        "        optimizer.step() # 가중치 업데이트\n",
        "        scheduler.step() # 학습률 조정\n",
        "\n",
        "        total_loss += loss.item()\n",
        "\n",
        "    return total_loss / len(data_loader) # 평균 손실 반환\n",
        "\n",
        "# 평가 기능\n",
        "def evaluate(model, data_loader, device):\n",
        "    model.eval() # 모델을 평가 모드로 설정\n",
        "    true_labels, pred_labels = [], [] # 실제 태그와 예측 태그를 저장하는 용도\n",
        "\n",
        "    with torch.no_grad():\n",
        "        for batch in tqdm(data_loader):\n",
        "            input_ids = batch['input_ids'].to(device) # 입력 토큰 ID를 GPU/CPU로 이동\n",
        "            attention_mask = batch['attention_mask'].to(device) # 패딩 마스크를 GPU/CPU로 이동\n",
        "            labels = batch['labels'].to(device) # 실제 태그를 GPU/CPU로 이동\n",
        "\n",
        "            outputs = model(input_ids, attention_mask=attention_mask) # 모델 예측 수행\n",
        "            logits = outputs.logits # 출력값(로짓)\n",
        "\n",
        "            predictions = torch.argmax(logits, dim=2) # 로짓에서 가장 높은 확률의 클래스 선택\n",
        "\n",
        "            for label, prediction, mask in zip(labels, predictions, attention_mask):\n",
        "                label = label[mask == 1].cpu().numpy() # mask가 1인 위치(실제 단어)에 대해서만 태그를 추출하고 패딩토큰은 제외\n",
        "                prediction = prediction[mask == 1].cpu().numpy() # 위와 동일\n",
        "\n",
        "                true_labels.extend(label[label != -100]) # -100태그(무시 토큰 패딩)은 제외하고 true_labels에 담음\n",
        "                pred_labels.extend(prediction[label != -100]) # 같은 방식으로 예측값 담음\n",
        "\n",
        "    # 각 클래스(태그)에 대한 Precision, Recall, F1-Score 계산해줌\n",
        "    return classification_report(true_labels, pred_labels, target_names=list(label_map.keys()), zero_division=0)\n",
        "\n",
        "# 평가 결과를 DataFrame으로 변환하는 함수\n",
        "def report_to_df(report):\n",
        "    \"\"\"\n",
        "    classification_report의 텍스트 출력을 DataFrame으로 변환하는 함수.\n",
        "    클래스별 Precision, Recall, F1-Score, Support를 추출.\n",
        "    \"\"\"\n",
        "    report_data = []  # 결과를 담을 리스트\n",
        "    lines = report.split('\\n')  # 줄 단위로 나눔\n",
        "\n",
        "    # 클래스별 Precision, Recall, F1-Score 추출\n",
        "    for line in lines[2:-3]:  # 클래스별 결과만 선택\n",
        "        if not line.strip():  # 빈 줄 건너뛰기\n",
        "            continue\n",
        "        row_data = line.split()\n",
        "        # 잘못된 형식의 줄을 건너뜀\n",
        "        if len(row_data) < 5:\n",
        "            print(f\"line skip: {line}\")  # 디버깅용 메시지\n",
        "            continue\n",
        "        row = {\n",
        "            'class': row_data[0],  # 클래스 이름\n",
        "            'precision': float(row_data[1]),  # Precision\n",
        "            'recall': float(row_data[2]),  # Recall\n",
        "            'f1_score': float(row_data[3]),  # F1-Score\n",
        "            'support': int(row_data[4])  # Support\n",
        "        }\n",
        "        report_data.append(row)\n",
        "\n",
        "    # DataFrame으로 변환\n",
        "    return pd.DataFrame.from_records(report_data)\n",
        "\n",
        "# 손실 및 평가 결과 저장용 리스트\n",
        "train_losses = []\n",
        "eval_reports = []\n",
        "# 사전 학습된 모델 학습 루프\n",
        "for epoch in range(Config.EPOCHS):\n",
        "    print(f\"Epoch {epoch + 1}/{Config.EPOCHS} - Pre-trained Model\")\n",
        "    # 학습 단계\n",
        "    train_loss = train_epoch(model, train_loader, optimizer, scheduler, device)\n",
        "    print(f\"Train Loss: {train_loss}\")\n",
        "    train_losses.append(train_loss)  # 손실 저장\n",
        "\n",
        "    # 평가 단계\n",
        "    eval_report = evaluate(model, val_loader, device)\n",
        "    print(f\"Evaluation Report:\\n{eval_report}\")\n",
        "    eval_reports.append(report_to_df(eval_report))  # 평가 결과를 DataFrame으로 저장\n",
        "\n",
        "# 손실 및 평가 결과 저장용 리스트\n",
        "untrained_train_losses = []\n",
        "untrained_eval_reports = []\n",
        "# 사전 학습되지 않은 모델 학습 루프\n",
        "for epoch in range(Config.EPOCHS):\n",
        "    print(f\"Epoch {epoch + 1}/{Config.EPOCHS} - Untrained Model\")\n",
        "    # 학습 단계\n",
        "    train_loss = train_epoch(untrained_model, train_loader, untrained_optimizer, untrained_scheduler, device)\n",
        "    print(f\"Train Loss: {train_loss}\")\n",
        "    untrained_train_losses.append(train_loss)  # 손실 저장\n",
        "\n",
        "    # 평가 단계\n",
        "    eval_report = evaluate(untrained_model, val_loader, device)\n",
        "    print(f\"Evaluation Report:\\n{eval_report}\")\n",
        "    untrained_eval_reports.append(report_to_df(eval_report))  # 평가 결과를 DataFrame으로 저장\n",
        "\n",
        "# 결과값에 대해서\n",
        "# Precision: 예측한 태그 중 정답인 비율\n",
        "# Recall: 실제 태그 중 모델이 올바르게 예측한 비율\n",
        "# F1-Score: Precision, Recall 간에 조화 평균\n",
        "# Support: 각 태그별 실제 데이터 개수\n",
        "\n",
        "# 리소스 아까워서라도 일단 저장해봄(안씀)\n",
        "torch.save(model.state_dict(), \"ner_model.pt\")\n"
      ]
    },
    {
      "cell_type": "code",
      "source": [
        "\n",
        "def plot_class_f1_scores(eval_reports, target_classes, epochs, title=\"Class-wise F1-Score\"):\n",
        "    \"\"\"\n",
        "    주어진 평가 결과(eval_reports)에서 특정 클래스들의 F1-Score 변화를 시각화.\n",
        "\n",
        "    Args:\n",
        "        eval_reports (list): 평가 결과 DataFrame 리스트.\n",
        "        target_classes (list): 관심 있는 클래스 목록.\n",
        "        epochs (int): 총 에포크 수.\n",
        "        title (str): 그래프 제목.\n",
        "    \"\"\"\n",
        "    # 클래스별 F1-Score 저장용 딕셔너리\n",
        "    class_f1_scores = {cls: [] for cls in target_classes}\n",
        "\n",
        "    # 평가 결과에서 관심 클래스의 F1-Score 추출\n",
        "    for eval_df in eval_reports:\n",
        "        for cls in target_classes:\n",
        "            f1_score = eval_df.loc[eval_df['class'] == cls, 'f1_score'].values\n",
        "            if len(f1_score) > 0:\n",
        "                class_f1_scores[cls].append(f1_score[0])  # F1-Score 저장\n",
        "            else:\n",
        "                class_f1_scores[cls].append(0)  # 해당 에포크에서 데이터가 없을 경우 0으로 설정\n",
        "\n",
        "    # 그래프 그리기\n",
        "    plt.figure(figsize=(10, 6))\n",
        "    for cls, scores in class_f1_scores.items():\n",
        "        plt.plot(range(1, epochs + 1), scores, marker='o', label=cls)\n",
        "\n",
        "    # 그래프 설정\n",
        "    plt.title(title)\n",
        "    plt.xlabel('Epoch')\n",
        "    plt.ylabel('F1-Score')\n",
        "    plt.xticks(range(1, epochs + 1))  # 에포크 숫자 표시\n",
        "    plt.legend(loc='best')\n",
        "    plt.grid()\n",
        "    plt.show()\n",
        "\n",
        "\n",
        "\n",
        "# 모든 Epoch가 끝난 후 손실 시각화\n",
        "plt.figure(figsize=(12, 6))\n",
        "plt.plot(range(1, Config.EPOCHS + 1), train_losses, label='Pre-trained Model')\n",
        "plt.plot(range(1, Config.EPOCHS + 1), untrained_train_losses, label='Untrained Model')\n",
        "plt.xlabel('Epoch')\n",
        "plt.ylabel('Loss')\n",
        "plt.title('Training Loss per Epoch')\n",
        "plt.legend()\n",
        "plt.show()\n",
        "\n",
        "\n",
        "# 타겟 클래스 (지원 데이터가 2000건 이상인 클래스들)\n",
        "target_classes = ['B-geo', 'B-per', 'B-org', 'I-org', 'B-tim', 'I-per']\n",
        "\n",
        "# Pre-trained 모델 시각화\n",
        "plot_class_f1_scores(eval_reports, target_classes, Config.EPOCHS, title=\"Pre-trained Model: Class-wise F1-Score\")\n",
        "\n",
        "# Untrained 모델 시각화\n",
        "plot_class_f1_scores(untrained_eval_reports, target_classes, Config.EPOCHS, title=\"Untrained Model: Class-wise F1-Score\")\n"
      ],
      "metadata": {
        "colab": {
          "base_uri": "https://localhost:8080/",
          "height": 1000
        },
        "id": "xAqa0t-HwidZ",
        "outputId": "78d2ff7d-04e1-4d9e-e37b-16d0102eb9b6"
      },
      "execution_count": 42,
      "outputs": [
        {
          "output_type": "display_data",
          "data": {
            "text/plain": [
              "<Figure size 1200x600 with 1 Axes>"
            ],
            "image/png": "[encoded data removed]"
          },
          "metadata": {}
        },
        {
          "output_type": "display_data",
          "data": {
            "text/plain": [
              "<Figure size 1000x600 with 1 Axes>"
            ],
            "image/png": "[encoded data removed]"
          },
          "metadata": {}
        },
        {
          "output_type": "display_data",
          "data": {
            "text/plain": [
              "<Figure size 1000x600 with 1 Axes>"
            ],
            "image/png": "[encoded data removed]"
          },
          "metadata": {}
        }
      ]
    },
    {
      "cell_type": "code",
      "source": [],
      "metadata": {
        "id": "Foks5u95ZQ1_"
      },
      "execution_count": 42,
      "outputs": []
    }
  ],
  "metadata": {
    "accelerator": "GPU",
    "colab": {
      "gpuType": "A100",
      "provenance": [],
      "machine_shape": "hm"
    },
    "kernelspec": {
      "display_name": "Python 3",
      "name": "python3"
    },
    "language_info": {
      "name": "python"
    }
  },
  "nbformat": 4,
  "nbformat_minor": 0
}