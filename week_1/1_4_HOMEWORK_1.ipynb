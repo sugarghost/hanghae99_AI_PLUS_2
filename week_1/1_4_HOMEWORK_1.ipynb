{
  "nbformat": 4,
  "nbformat_minor": 0,
  "metadata": {
    "colab": {
      "provenance": [],
      "gpuType": "T4",
      "include_colab_link": true
    },
    "kernelspec": {
      "name": "python3",
      "display_name": "Python 3"
    },
    "language_info": {
      "name": "python"
    },
    "accelerator": "GPU"
  },
  "cells": [
    {
      "cell_type": "markdown",
      "metadata": {
        "id": "view-in-github",
        "colab_type": "text"
      },
      "source": [
        "<a href=\"https://colab.research.google.com/github/sugarghost/hanghae99_AI_PLUS_2/blob/main/1_4_HOMEWORK_1.ipynb\" target=\"_parent\"><img src=\"https://colab.research.google.com/assets/colab-badge.svg\" alt=\"Open In Colab\"/></a>"
      ]
    },
    {
      "cell_type": "code",
      "execution_count": null,
      "metadata": {
        "id": "6lXVfXoDtoQh"
      },
      "outputs": [],
      "source": [
        "import torch\n",
        "import torchvision\n",
        "import torchvision.transforms as transforms\n"
      ]
    },
    {
      "cell_type": "markdown",
      "source": [
        "## Test data 준비하기\n",
        "    - Test data는 MNIST의 train data를 load하는 코드에서 `train=False`로 두면 됩니다.\n",
        "    - Train data와 마찬가지로 test data에 대한 data loader를 생성해주시면 됩니다(batch size는 동일하게 적용).\n",
        "        - Test data는 랜덤하게 섞일 필요가 없기 때문에 `shuffle=False`로 설정합니다."
      ],
      "metadata": {
        "id": "qhKf91FXBi-N"
      }
    },
    {
      "cell_type": "code",
      "source": [
        "transform = transforms.ToTensor()\n",
        "\n",
        "batch_size = 256\n",
        "\n",
        "trainset = torchvision.datasets.MNIST(\n",
        "    root='./data',\n",
        "    train=True,\n",
        "    download=True,\n",
        "    transform=transform\n",
        ")\n",
        "\n",
        "trainloader = torch.utils.data.DataLoader(\n",
        "    trainset,\n",
        "    batch_size=batch_size,\n",
        "    shuffle=True\n",
        ")\n",
        "# [MY CODE] 테스트셋 준비\n",
        "testset = torchvision.datasets.MNIST(\n",
        "    root='./data',\n",
        "    train=False, # 테스트 데이터는 학습시키지 않음\n",
        "    download=True,\n",
        "    transform=transform\n",
        ")\n",
        "\n",
        "# [MY CODE] 테스트로더 준비\n",
        "testloader = torch.utils.data.DataLoader(\n",
        "    testset,\n",
        "    batch_size=batch_size,\n",
        "    shuffle=False # 테스트 데이터는 섞을 필요 없음\n",
        ")"
      ],
      "metadata": {
        "id": "KAYlqPaRt6ti",
        "colab": {
          "base_uri": "https://localhost:8080/"
        },
        "outputId": "152532a7-bff9-4242-b5f9-aeb50fbec2e2"
      },
      "execution_count": null,
      "outputs": [
        {
          "output_type": "stream",
          "name": "stdout",
          "text": [
            "Downloading http://yann.lecun.com/exdb/mnist/train-images-idx3-ubyte.gz\n",
            "Failed to download (trying next):\n",
            "HTTP Error 403: Forbidden\n",
            "\n",
            "Downloading https://ossci-datasets.s3.amazonaws.com/mnist/train-images-idx3-ubyte.gz\n",
            "Downloading https://ossci-datasets.s3.amazonaws.com/mnist/train-images-idx3-ubyte.gz to ./data/MNIST/raw/train-images-idx3-ubyte.gz\n"
          ]
        },
        {
          "output_type": "stream",
          "name": "stderr",
          "text": [
            "100%|██████████| 9.91M/9.91M [00:01<00:00, 5.01MB/s]\n"
          ]
        },
        {
          "output_type": "stream",
          "name": "stdout",
          "text": [
            "Extracting ./data/MNIST/raw/train-images-idx3-ubyte.gz to ./data/MNIST/raw\n",
            "\n",
            "Downloading http://yann.lecun.com/exdb/mnist/train-labels-idx1-ubyte.gz\n",
            "Failed to download (trying next):\n",
            "HTTP Error 403: Forbidden\n",
            "\n",
            "Downloading https://ossci-datasets.s3.amazonaws.com/mnist/train-labels-idx1-ubyte.gz\n",
            "Downloading https://ossci-datasets.s3.amazonaws.com/mnist/train-labels-idx1-ubyte.gz to ./data/MNIST/raw/train-labels-idx1-ubyte.gz\n"
          ]
        },
        {
          "output_type": "stream",
          "name": "stderr",
          "text": [
            "100%|██████████| 28.9k/28.9k [00:00<00:00, 135kB/s]\n"
          ]
        },
        {
          "output_type": "stream",
          "name": "stdout",
          "text": [
            "Extracting ./data/MNIST/raw/train-labels-idx1-ubyte.gz to ./data/MNIST/raw\n",
            "\n",
            "Downloading http://yann.lecun.com/exdb/mnist/t10k-images-idx3-ubyte.gz\n",
            "Failed to download (trying next):\n",
            "HTTP Error 403: Forbidden\n",
            "\n",
            "Downloading https://ossci-datasets.s3.amazonaws.com/mnist/t10k-images-idx3-ubyte.gz\n",
            "Downloading https://ossci-datasets.s3.amazonaws.com/mnist/t10k-images-idx3-ubyte.gz to ./data/MNIST/raw/t10k-images-idx3-ubyte.gz\n"
          ]
        },
        {
          "output_type": "stream",
          "name": "stderr",
          "text": [
            "100%|██████████| 1.65M/1.65M [00:01<00:00, 1.09MB/s]\n"
          ]
        },
        {
          "output_type": "stream",
          "name": "stdout",
          "text": [
            "Extracting ./data/MNIST/raw/t10k-images-idx3-ubyte.gz to ./data/MNIST/raw\n",
            "\n",
            "Downloading http://yann.lecun.com/exdb/mnist/t10k-labels-idx1-ubyte.gz\n",
            "Failed to download (trying next):\n",
            "HTTP Error 403: Forbidden\n",
            "\n",
            "Downloading https://ossci-datasets.s3.amazonaws.com/mnist/t10k-labels-idx1-ubyte.gz\n",
            "Downloading https://ossci-datasets.s3.amazonaws.com/mnist/t10k-labels-idx1-ubyte.gz to ./data/MNIST/raw/t10k-labels-idx1-ubyte.gz\n"
          ]
        },
        {
          "output_type": "stream",
          "name": "stderr",
          "text": [
            "100%|██████████| 4.54k/4.54k [00:00<00:00, 8.53MB/s]"
          ]
        },
        {
          "output_type": "stream",
          "name": "stdout",
          "text": [
            "Extracting ./data/MNIST/raw/t10k-labels-idx1-ubyte.gz to ./data/MNIST/raw\n",
            "\n"
          ]
        },
        {
          "output_type": "stream",
          "name": "stderr",
          "text": [
            "\n"
          ]
        }
      ]
    },
    {
      "cell_type": "code",
      "source": [
        "dataiter = iter(trainloader)\n",
        "images, labels = next(dataiter)\n",
        "print(images.shape, labels.shape)"
      ],
      "metadata": {
        "colab": {
          "base_uri": "https://localhost:8080/"
        },
        "id": "_Hd7XxyAvVNz",
        "outputId": "5c31ee8a-3d79-4869-9849-31dd700e9c31"
      },
      "execution_count": null,
      "outputs": [
        {
          "output_type": "stream",
          "name": "stdout",
          "text": [
            "torch.Size([256, 1, 28, 28]) torch.Size([256])\n"
          ]
        }
      ]
    },
    {
      "cell_type": "markdown",
      "source": [
        "## [MY CODE] 마지막에 ReLU 제거"
      ],
      "metadata": {
        "id": "IpmG4RMvOP-V"
      }
    },
    {
      "cell_type": "code",
      "source": [
        "from torch import nn\n",
        "\n",
        "\n",
        "class Model(nn.Module):\n",
        "  def __init__(self, input_dim, n_dim):\n",
        "    super().__init__()\n",
        "\n",
        "    self.layer1 = nn.Linear(input_dim, n_dim)\n",
        "    self.layer2 = nn.Linear(n_dim, n_dim)\n",
        "    self.layer3 = nn.Linear(n_dim, 10)\n",
        "\n",
        "    self.act = nn.ReLU()\n",
        "\n",
        "  def forward(self, x):\n",
        "    x = torch.flatten(x, start_dim=1)\n",
        "    x = self.act(self.layer1(x))\n",
        "    x = self.act(self.layer2(x))\n",
        "    # [MY CODE] 마지막 단계에서는 ReLU 적용 안함\n",
        "    x = self.layer3(x)\n",
        "\n",
        "    return x\n",
        "\n",
        "\n",
        "model = Model(28 * 28 * 1, 1024)"
      ],
      "metadata": {
        "id": "OLOA-ZGTuVVG"
      },
      "execution_count": null,
      "outputs": []
    },
    {
      "cell_type": "markdown",
      "source": [
        "## `nn.CrossEntropyLoss` 적용하기\n",
        "    - 변경되어야 할 점은 2가지로 i) `Model`의 최종 output의 dimension과 ii) `loss` 계산 부분입니다."
      ],
      "metadata": {
        "id": "UA1-PAniEEzO"
      }
    },
    {
      "cell_type": "code",
      "source": [
        "from torch.optim import SGD\n",
        "\n",
        "lr = 0.001\n",
        "model = model.to('cuda')\n",
        "# [MY CODE] nn.CrossEntropyLoss 추가\n",
        "criterion = nn.CrossEntropyLoss()\n",
        "optimizer = SGD(model.parameters(), lr=lr)"
      ],
      "metadata": {
        "id": "ypS0TcOlvBhZ"
      },
      "execution_count": null,
      "outputs": []
    },
    {
      "cell_type": "code",
      "source": [
        "import numpy as np\n",
        "import matplotlib.pyplot as plt\n",
        "\n",
        "train_accs, test_accs = [], []\n",
        "def accuracy(model, dataloader):\n",
        "  cnt = 0\n",
        "  acc = 0\n",
        "\n",
        "  for data in dataloader:\n",
        "    inputs, labels = data\n",
        "    inputs, labels = inputs.to('cuda'), labels.to('cuda')\n",
        "\n",
        "    preds = model(inputs)\n",
        "    preds = torch.argmax(preds, dim=-1)\n",
        "\n",
        "    cnt += labels.shape[0]\n",
        "    acc += (labels == preds).sum().item()\n",
        "\n",
        "  return acc / cnt\n",
        "\n",
        "def plot_acc(train_accs, test_accs, label1='train', label2='test'):\n",
        "  x = np.arange(len(train_accs))\n",
        "\n",
        "  plt.plot(x, train_accs, label=label1)\n",
        "  plt.plot(x, test_accs, label=label2)\n",
        "  plt.legend()\n",
        "  plt.show()"
      ],
      "metadata": {
        "id": "LnOCm77EG6Ya"
      },
      "execution_count": null,
      "outputs": []
    },
    {
      "cell_type": "markdown",
      "source": [
        "## `nn.CrossEntropyLoss` 적용하기\n",
        "    - 변경되어야 할 점은 2가지로 i) `Model`의 최종 output의 dimension과 ii) `loss` 계산 부분입니다.\n",
        "## [LOG] 학습 과정에서의 Epoch별 손실값 및 정확도 출력"
      ],
      "metadata": {
        "id": "u_c_uWFoERzc"
      }
    },
    {
      "cell_type": "code",
      "source": [
        "n_epochs = 100\n",
        "for epoch in range(n_epochs):\n",
        "  total_loss = 0.\n",
        "\n",
        "  # [MY CODE] Colab 부하가 심해서 모드를 분리하기로 함\n",
        "  model.train()\n",
        "  for data in trainloader:\n",
        "    model.zero_grad()\n",
        "    inputs, labels = data\n",
        "    inputs, labels = inputs.to('cuda'), labels.to('cuda')\n",
        "\n",
        "    preds = model(inputs)\n",
        "    # MSE 방식 비활성화\n",
        "    # loss = (preds[:, 0] - labels).pow(2).mean()\n",
        "    loss = criterion(preds, labels) # [MY CODE] CrossEntropyLoss 적용\n",
        "    loss.backward()\n",
        "    optimizer.step()\n",
        "\n",
        "    total_loss += loss.item()\n",
        "\n",
        "  # [MY CODE] 한번 돌려보니 부하가 오래 걸려서 평가 모드로 변경해서 처리\n",
        "  with torch.no_grad():\n",
        "    model.eval()\n",
        "    # Epoch별 Train/Test 정확도 계산\n",
        "    train_acc = accuracy(model, trainloader)\n",
        "    test_acc = accuracy(model, testloader)\n",
        "    train_accs.append(train_acc)\n",
        "    test_accs.append(test_acc)\n",
        "\n",
        "    print(f\"Epoch {epoch:3d} | Loss: {total_loss} | Train Acc: {train_acc:.4f} | Test Acc: {test_acc:.4f}\")"
      ],
      "metadata": {
        "colab": {
          "base_uri": "https://localhost:8080/"
        },
        "id": "TryX1hewvNiB",
        "outputId": "e48811e3-6dcf-4f07-f12a-a493730da9d9"
      },
      "execution_count": null,
      "outputs": [
        {
          "output_type": "stream",
          "name": "stdout",
          "text": [
            "Epoch   0 | Loss: 538.9404816627502 | Train Acc: 0.1193 | Test Acc: 0.1177\n",
            "Epoch   1 | Loss: 535.0102436542511 | Train Acc: 0.1779 | Test Acc: 0.1807\n",
            "Epoch   2 | Loss: 530.9510803222656 | Train Acc: 0.2511 | Test Acc: 0.2568\n",
            "Epoch   3 | Loss: 526.6289265155792 | Train Acc: 0.3658 | Test Acc: 0.3762\n",
            "Epoch   4 | Loss: 521.9227628707886 | Train Acc: 0.4508 | Test Acc: 0.4567\n",
            "Epoch   5 | Loss: 516.7158215045929 | Train Acc: 0.5010 | Test Acc: 0.5076\n",
            "Epoch   6 | Loss: 510.84736227989197 | Train Acc: 0.5422 | Test Acc: 0.5444\n",
            "Epoch   7 | Loss: 504.1905462741852 | Train Acc: 0.5766 | Test Acc: 0.5766\n",
            "Epoch   8 | Loss: 496.5628046989441 | Train Acc: 0.6029 | Test Acc: 0.6036\n",
            "Epoch   9 | Loss: 487.885169506073 | Train Acc: 0.6269 | Test Acc: 0.6305\n",
            "Epoch  10 | Loss: 477.8703008890152 | Train Acc: 0.6466 | Test Acc: 0.6502\n",
            "Epoch  11 | Loss: 466.4352878332138 | Train Acc: 0.6635 | Test Acc: 0.6667\n",
            "Epoch  12 | Loss: 453.44530844688416 | Train Acc: 0.6789 | Test Acc: 0.6814\n",
            "Epoch  13 | Loss: 438.9221284389496 | Train Acc: 0.6921 | Test Acc: 0.6963\n",
            "Epoch  14 | Loss: 422.6756498813629 | Train Acc: 0.7027 | Test Acc: 0.7065\n",
            "Epoch  15 | Loss: 405.07525396347046 | Train Acc: 0.7124 | Test Acc: 0.7170\n",
            "Epoch  16 | Loss: 386.19925606250763 | Train Acc: 0.7225 | Test Acc: 0.7288\n",
            "Epoch  17 | Loss: 366.588906288147 | Train Acc: 0.7337 | Test Acc: 0.7410\n",
            "Epoch  18 | Loss: 346.48338758945465 | Train Acc: 0.7450 | Test Acc: 0.7540\n",
            "Epoch  19 | Loss: 326.61355566978455 | Train Acc: 0.7566 | Test Acc: 0.7661\n",
            "Epoch  20 | Loss: 307.2504173517227 | Train Acc: 0.7674 | Test Acc: 0.7759\n",
            "Epoch  21 | Loss: 288.9008733034134 | Train Acc: 0.7787 | Test Acc: 0.7869\n",
            "Epoch  22 | Loss: 271.9457814693451 | Train Acc: 0.7876 | Test Acc: 0.7952\n",
            "Epoch  23 | Loss: 256.3689859509468 | Train Acc: 0.7963 | Test Acc: 0.8024\n",
            "Epoch  24 | Loss: 242.28409922122955 | Train Acc: 0.8025 | Test Acc: 0.8104\n",
            "Epoch  25 | Loss: 229.55509287118912 | Train Acc: 0.8086 | Test Acc: 0.8147\n",
            "Epoch  26 | Loss: 218.1153222322464 | Train Acc: 0.8143 | Test Acc: 0.8199\n",
            "Epoch  27 | Loss: 207.94062668085098 | Train Acc: 0.8181 | Test Acc: 0.8239\n",
            "Epoch  28 | Loss: 198.82013881206512 | Train Acc: 0.8216 | Test Acc: 0.8283\n",
            "Epoch  29 | Loss: 190.61624336242676 | Train Acc: 0.8264 | Test Acc: 0.8328\n",
            "Epoch  30 | Loss: 183.28755450248718 | Train Acc: 0.8286 | Test Acc: 0.8340\n",
            "Epoch  31 | Loss: 176.63539028167725 | Train Acc: 0.8327 | Test Acc: 0.8381\n",
            "Epoch  32 | Loss: 170.66531896591187 | Train Acc: 0.8357 | Test Acc: 0.8403\n",
            "Epoch  33 | Loss: 165.1814399957657 | Train Acc: 0.8387 | Test Acc: 0.8440\n",
            "Epoch  34 | Loss: 160.0764524936676 | Train Acc: 0.8413 | Test Acc: 0.8459\n",
            "Epoch  35 | Loss: 155.61843943595886 | Train Acc: 0.8441 | Test Acc: 0.8484\n",
            "Epoch  36 | Loss: 151.45454901456833 | Train Acc: 0.8469 | Test Acc: 0.8523\n",
            "Epoch  37 | Loss: 147.55669051408768 | Train Acc: 0.8487 | Test Acc: 0.8539\n",
            "Epoch  38 | Loss: 144.0261440873146 | Train Acc: 0.8508 | Test Acc: 0.8556\n",
            "Epoch  39 | Loss: 140.73889556527138 | Train Acc: 0.8532 | Test Acc: 0.8573\n",
            "Epoch  40 | Loss: 137.70120650529861 | Train Acc: 0.8559 | Test Acc: 0.8598\n",
            "Epoch  41 | Loss: 134.88979774713516 | Train Acc: 0.8573 | Test Acc: 0.8613\n",
            "Epoch  42 | Loss: 132.2191799879074 | Train Acc: 0.8593 | Test Acc: 0.8638\n",
            "Epoch  43 | Loss: 129.7711164355278 | Train Acc: 0.8608 | Test Acc: 0.8650\n",
            "Epoch  44 | Loss: 127.44191479682922 | Train Acc: 0.8629 | Test Acc: 0.8668\n",
            "Epoch  45 | Loss: 125.30837526917458 | Train Acc: 0.8652 | Test Acc: 0.8691\n",
            "Epoch  46 | Loss: 123.3659026324749 | Train Acc: 0.8662 | Test Acc: 0.8711\n",
            "Epoch  47 | Loss: 121.46857902407646 | Train Acc: 0.8679 | Test Acc: 0.8726\n",
            "Epoch  48 | Loss: 119.61483642458916 | Train Acc: 0.8696 | Test Acc: 0.8745\n",
            "Epoch  49 | Loss: 117.91153609752655 | Train Acc: 0.8711 | Test Acc: 0.8760\n",
            "Epoch  50 | Loss: 116.43814247846603 | Train Acc: 0.8722 | Test Acc: 0.8769\n",
            "Epoch  51 | Loss: 114.7551195025444 | Train Acc: 0.8731 | Test Acc: 0.8783\n",
            "Epoch  52 | Loss: 113.2870300412178 | Train Acc: 0.8743 | Test Acc: 0.8797\n",
            "Epoch  53 | Loss: 111.99045303463936 | Train Acc: 0.8755 | Test Acc: 0.8807\n",
            "Epoch  54 | Loss: 110.71509364247322 | Train Acc: 0.8764 | Test Acc: 0.8813\n",
            "Epoch  55 | Loss: 109.40605729818344 | Train Acc: 0.8775 | Test Acc: 0.8814\n",
            "Epoch  56 | Loss: 108.23199427127838 | Train Acc: 0.8785 | Test Acc: 0.8825\n",
            "Epoch  57 | Loss: 107.13955703377724 | Train Acc: 0.8796 | Test Acc: 0.8836\n",
            "Epoch  58 | Loss: 105.92488652467728 | Train Acc: 0.8804 | Test Acc: 0.8850\n",
            "Epoch  59 | Loss: 104.85919317603111 | Train Acc: 0.8812 | Test Acc: 0.8858\n",
            "Epoch  60 | Loss: 103.92479008436203 | Train Acc: 0.8822 | Test Acc: 0.8875\n",
            "Epoch  61 | Loss: 102.88501167297363 | Train Acc: 0.8829 | Test Acc: 0.8876\n",
            "Epoch  62 | Loss: 102.00138601660728 | Train Acc: 0.8832 | Test Acc: 0.8887\n",
            "Epoch  63 | Loss: 101.15037670731544 | Train Acc: 0.8843 | Test Acc: 0.8900\n",
            "Epoch  64 | Loss: 100.27694773674011 | Train Acc: 0.8853 | Test Acc: 0.8915\n",
            "Epoch  65 | Loss: 99.50573328137398 | Train Acc: 0.8860 | Test Acc: 0.8910\n",
            "Epoch  66 | Loss: 98.79872354865074 | Train Acc: 0.8868 | Test Acc: 0.8915\n",
            "Epoch  67 | Loss: 97.94792872667313 | Train Acc: 0.8874 | Test Acc: 0.8925\n",
            "Epoch  68 | Loss: 97.12896305322647 | Train Acc: 0.8883 | Test Acc: 0.8929\n",
            "Epoch  69 | Loss: 96.50006428360939 | Train Acc: 0.8889 | Test Acc: 0.8934\n",
            "Epoch  70 | Loss: 95.7554439008236 | Train Acc: 0.8892 | Test Acc: 0.8939\n",
            "Epoch  71 | Loss: 95.18423447012901 | Train Acc: 0.8899 | Test Acc: 0.8944\n",
            "Epoch  72 | Loss: 94.48039102554321 | Train Acc: 0.8905 | Test Acc: 0.8948\n",
            "Epoch  73 | Loss: 93.95180943608284 | Train Acc: 0.8909 | Test Acc: 0.8956\n",
            "Epoch  74 | Loss: 93.25209078192711 | Train Acc: 0.8918 | Test Acc: 0.8965\n",
            "Epoch  75 | Loss: 92.77187389135361 | Train Acc: 0.8921 | Test Acc: 0.8970\n",
            "Epoch  76 | Loss: 92.22905752062798 | Train Acc: 0.8926 | Test Acc: 0.8975\n",
            "Epoch  77 | Loss: 91.60715416073799 | Train Acc: 0.8931 | Test Acc: 0.8978\n",
            "Epoch  78 | Loss: 91.07303762435913 | Train Acc: 0.8938 | Test Acc: 0.8975\n",
            "Epoch  79 | Loss: 90.56143543124199 | Train Acc: 0.8942 | Test Acc: 0.8982\n",
            "Epoch  80 | Loss: 90.10433828830719 | Train Acc: 0.8947 | Test Acc: 0.8987\n",
            "Epoch  81 | Loss: 89.60900935530663 | Train Acc: 0.8952 | Test Acc: 0.8984\n",
            "Epoch  82 | Loss: 89.1102032661438 | Train Acc: 0.8957 | Test Acc: 0.8985\n",
            "Epoch  83 | Loss: 88.7489165365696 | Train Acc: 0.8961 | Test Acc: 0.8994\n",
            "Epoch  84 | Loss: 88.1410011947155 | Train Acc: 0.8962 | Test Acc: 0.8995\n",
            "Epoch  85 | Loss: 87.68552178144455 | Train Acc: 0.8965 | Test Acc: 0.9001\n",
            "Epoch  86 | Loss: 87.2916164547205 | Train Acc: 0.8973 | Test Acc: 0.9001\n",
            "Epoch  87 | Loss: 86.9118045270443 | Train Acc: 0.8975 | Test Acc: 0.9006\n",
            "Epoch  88 | Loss: 86.5538712143898 | Train Acc: 0.8980 | Test Acc: 0.9004\n",
            "Epoch  89 | Loss: 86.11487610638142 | Train Acc: 0.8981 | Test Acc: 0.9018\n",
            "Epoch  90 | Loss: 85.82000681757927 | Train Acc: 0.8985 | Test Acc: 0.9018\n",
            "Epoch  91 | Loss: 85.34960828721523 | Train Acc: 0.8989 | Test Acc: 0.9026\n",
            "Epoch  92 | Loss: 84.97195859253407 | Train Acc: 0.8992 | Test Acc: 0.9026\n",
            "Epoch  93 | Loss: 84.54258523881435 | Train Acc: 0.8996 | Test Acc: 0.9029\n",
            "Epoch  94 | Loss: 84.24284026026726 | Train Acc: 0.8997 | Test Acc: 0.9031\n",
            "Epoch  95 | Loss: 83.9271761327982 | Train Acc: 0.9001 | Test Acc: 0.9029\n",
            "Epoch  96 | Loss: 83.65774680674076 | Train Acc: 0.9008 | Test Acc: 0.9038\n",
            "Epoch  97 | Loss: 83.26361900568008 | Train Acc: 0.9009 | Test Acc: 0.9035\n",
            "Epoch  98 | Loss: 82.92656490206718 | Train Acc: 0.9011 | Test Acc: 0.9041\n",
            "Epoch  99 | Loss: 82.63586281239986 | Train Acc: 0.9018 | Test Acc: 0.9044\n"
          ]
        }
      ]
    },
    {
      "cell_type": "markdown",
      "source": [
        "## [MY CODE] 결과 테스트를 위한 출력"
      ],
      "metadata": {
        "id": "hklgv6eSXR22"
      }
    },
    {
      "cell_type": "code",
      "source": [
        "plot_acc(train_accs, test_accs)\n"
      ],
      "metadata": {
        "colab": {
          "base_uri": "https://localhost:8080/",
          "height": 430
        },
        "id": "lFDJy_QrImiV",
        "outputId": "ab0ce515-2407-4613-ed79-bdc6bc484792"
      },
      "execution_count": null,
      "outputs": [
        {
          "output_type": "display_data",
          "data": {
            "text/plain": [
              "<Figure size 640x480 with 1 Axes>"
            ],
            "image/png": "[encoded data removed]"
          },
          "metadata": {}
        }
      ]
    },
    {
      "cell_type": "code",
      "source": [],
      "metadata": {
        "id": "d6M4SpWQoML9"
      },
      "execution_count": null,
      "outputs": []
    }
  ]
}